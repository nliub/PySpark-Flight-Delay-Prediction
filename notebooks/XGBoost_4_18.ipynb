{
 "cells": [
  {
   "cell_type": "markdown",
   "metadata": {
    "application/vnd.databricks.v1+cell": {
     "cellMetadata": {
      "byteLimit": 2048000,
      "rowLimit": 10000
     },
     "inputWidgets": {},
     "nuid": "cc79ff8e-103d-4f79-b619-5900fbc1555b",
     "showTitle": false,
     "title": ""
    }
   },
   "source": [
    "# set up \n"
   ]
  },
  {
   "cell_type": "code",
   "execution_count": 0,
   "metadata": {
    "application/vnd.databricks.v1+cell": {
     "cellMetadata": {
      "byteLimit": 2048000,
      "rowLimit": 10000
     },
     "inputWidgets": {},
     "nuid": "823f8ec7-5147-4878-9cfe-b1effbcda619",
     "showTitle": false,
     "title": ""
    }
   },
   "outputs": [],
   "source": [
    "secret_scope = \"team_3-4\"\n",
    "secret_key = \"key_3_4\" # The name of your container created in https://portal.azure.com\n",
    "blob_container = \"team3-4\"  # The name of your Storage account created in https://portal.azure.com\n",
    "storage_account = \"daphnelin\" \n",
    "team_blob_url = f\"wasbs://{blob_container}@{storage_account}.blob.core.windows.net\"\n",
    "\n",
    "spark.conf.set(\n",
    "  f\"fs.azure.sas.{blob_container}.{storage_account}.blob.core.windows.net\",\n",
    "  dbutils.secrets.get(scope = secret_scope, key = secret_key)\n",
    ")"
   ]
  },
  {
   "cell_type": "code",
   "execution_count": 0,
   "metadata": {
    "application/vnd.databricks.v1+cell": {
     "cellMetadata": {
      "byteLimit": 2048000,
      "rowLimit": 10000
     },
     "inputWidgets": {},
     "nuid": "6fd587ed-5aeb-4aca-a51e-dbd901038e46",
     "showTitle": false,
     "title": ""
    }
   },
   "outputs": [],
   "source": [
    "import pyspark\n",
    "import xgboost as xgb\n",
    "\n",
    "from pyspark.sql.functions import col, count, when, isnan, lit, udf, desc, mean, year, month, date_format, to_date, sum, expr, round, unix_timestamp, from_unixtime, avg, date_add, date_sub, when, to_date\n",
    "from pyspark.sql import SparkSession\n",
    "from pyspark.sql.types import IntegerType, FloatType, DoubleType, StructType, StructField, StringType\n",
    "from pyspark.sql import functions as F\n",
    "\n",
    "import matplotlib.pyplot as plt\n",
    "import pandas as pd\n",
    "import numpy as np\n",
    "import seaborn as sns\n",
    "\n",
    "from pyspark.ml.feature import StringIndexer, OneHotEncoder,VectorAssembler\n",
    "from pyspark.ml import Pipeline\n",
    "\n",
    "from pyspark.sql import DataFrame\n",
    "\n",
    "from xgboost.spark import SparkXGBClassifier\n",
    "from pyspark.sql.functions import col, unix_timestamp, avg\n",
    "from pyspark.sql.window import Window\n",
    "import time\n",
    "from pyspark.mllib.evaluation import MulticlassMetrics"
   ]
  },
  {
   "cell_type": "markdown",
   "metadata": {
    "application/vnd.databricks.v1+cell": {
     "cellMetadata": {
      "byteLimit": 2048000,
      "rowLimit": 10000
     },
     "inputWidgets": {},
     "nuid": "f2449668-ff93-4d57-b219-700ed196fff5",
     "showTitle": false,
     "title": ""
    }
   },
   "source": [
    "# feature selection\n"
   ]
  },
  {
   "cell_type": "markdown",
   "metadata": {
    "application/vnd.databricks.v1+cell": {
     "cellMetadata": {
      "byteLimit": 2048000,
      "rowLimit": 10000
     },
     "inputWidgets": {},
     "nuid": "5c9e3bcd-8354-4b30-a648-303c2b405d4f",
     "showTitle": false,
     "title": ""
    }
   },
   "source": [
    "## import data and define features"
   ]
  },
  {
   "cell_type": "code",
   "execution_count": 0,
   "metadata": {
    "application/vnd.databricks.v1+cell": {
     "cellMetadata": {
      "byteLimit": 2048000,
      "rowLimit": 10000
     },
     "inputWidgets": {},
     "nuid": "52572aa8-2394-4124-9c5c-73790b8bd5d1",
     "showTitle": false,
     "title": ""
    }
   },
   "outputs": [],
   "source": [
    "# data_BASE_DIR = \"dbfs:/mnt/mids-w261/\"\n",
    "# # df_otpw_12m = spark.read.option(\"header\", \"true\").option(\"compression\", \"gzip\").csv(f\"{data_BASE_DIR}/OTPW_12M/OTPW_12M_2015.csv.gz\")\n",
    "\n",
    "\n",
    "# df_otpw_60m = spark.read.format(\"csv\").option(\"header\", \"true\").option(\"inferSchema\", \"true\").option(\"compression\", \"gzip\").load(f\"{data_BASE_DIR}/OTPW_60M/\")\n",
    "\n",
    "# # df_otpw_60m_sample = df_otpw_60m.limit(500)\n",
    "\n",
    "# # display(df_otpw_60m_sample)\n"
   ]
  },
  {
   "cell_type": "code",
   "execution_count": 0,
   "metadata": {
    "application/vnd.databricks.v1+cell": {
     "cellMetadata": {
      "byteLimit": 2048000,
      "rowLimit": 10000
     },
     "inputWidgets": {},
     "nuid": "36fb2007-3069-4861-ba1f-cb31afef8b09",
     "showTitle": false,
     "title": ""
    }
   },
   "outputs": [],
   "source": [
    "\n",
    "# # columns_to_select = [\n",
    "# #     \"DEP_DEL15\", \"CANCELLED\", \"QUARTER\", \"MONTH\", \"DAY_OF_MONTH\", \"DAY_OF_WEEK\",\n",
    "# #     \"OP_CARRIER_AIRLINE_ID\", \"OP_CARRIER_FL_NUM\",\"TAIL_NUM\",\n",
    "# #     \"sched_depart_date_time_UTC\", \"DISTANCE\", 'FL_DATE',\n",
    "\n",
    "# #     \"ORIGIN\", \"ORIGIN_CITY_MARKET_ID\",\"ORIGIN_STATE_ABR\",\n",
    "# #     \"DEST\", \"DEST_CITY_MARKET_ID\",\"DEST_STATE_ABR\",\n",
    "\n",
    "# #     'HourlyAltimeterSetting',\n",
    "# #     'HourlyDewPointTemperature',\n",
    "# #     'HourlyDryBulbTemperature',\n",
    "# #     'HourlyRelativeHumidity',\n",
    "# #     'HourlyStationPressure',\n",
    "# #     'HourlyVisibility',\n",
    "# #     'HourlyWetBulbTemperature',\n",
    "# #     'HourlyWindDirection',\n",
    "# #     'HourlyWindSpeed',\n",
    "# # ]\n",
    "\n",
    "# #take out TAIL_NUM AND OP_CARRIER_AIRLINE_ID\n",
    "\n",
    "# #daphne's features\n",
    "# # df = df.select('DEP_DELAY', 'sched_depart_date_time_UTC', 'ORIGIN', 'DEST', 'TAIL_NUM', 'YEAR', 'QUARTER', 'MONTH', 'FL_DATE', 'DEP_DEL15')\n",
    "\n",
    "# columns_to_select = [\n",
    "#     \"DEP_DEL15\", \"CANCELLED\", \"YEAR\",\"QUARTER\", \"MONTH\", \"DAY_OF_MONTH\", \"DAY_OF_WEEK\",\n",
    "#     \"sched_depart_date_time_UTC\", \"DISTANCE\", 'FL_DATE',\n",
    "#     \"ORIGIN\", \"ORIGIN_CITY_MARKET_ID\",\"ORIGIN_STATE_ABR\",\n",
    "#     \"DEST\", \"DEST_CITY_MARKET_ID\",\"DEST_STATE_ABR\",\n",
    "#     \"DEP_DELAY\",\"TAIL_NUM\",\n",
    "\n",
    "#     'HourlyAltimeterSetting',\n",
    "#     'HourlyDewPointTemperature',\n",
    "#     'HourlyDryBulbTemperature',\n",
    "#     'HourlyRelativeHumidity',\n",
    "#     'HourlyStationPressure',\n",
    "#     'HourlyVisibility',\n",
    "#     'HourlyWetBulbTemperature',\n",
    "#     'HourlyWindDirection',\n",
    "#     'HourlyWindSpeed',\n",
    "# ]\n",
    "\n",
    "# # categorical_columns = [\n",
    "# #     \"QUARTER\", \"MONTH\",\"DAY_OF_MONTH\",\"DAY_OF_WEEK\",\n",
    "# #     \"OP_CARRIER_AIRLINE_ID\", \"OP_CARRIER_FL_NUM\",\"TAIL_NUM\",\n",
    "# #     \"ORIGIN\", \"ORIGIN_CITY_MARKET_ID\",\"ORIGIN_STATE_ABR\",\n",
    "# #     \"DEST\", \"DEST_CITY_MARKET_ID\",\"DEST_STATE_ABR\",\n",
    "# #     ]\n",
    "\n",
    "# categorical_columns = [\n",
    "#     \"YEAR\",\"QUARTER\", \"MONTH\",\"DAY_OF_MONTH\",\"DAY_OF_WEEK\",\n",
    "#     \"ORIGIN\", \"ORIGIN_CITY_MARKET_ID\",\"ORIGIN_STATE_ABR\",\n",
    "#     \"DEST\", \"DEST_CITY_MARKET_ID\",\"DEST_STATE_ABR\",\n",
    "#     ]\n",
    "\n",
    "# columns_to_cast = [\n",
    "#     'DEP_DEL15',\n",
    "#     'DISTANCE',\n",
    "#     'HourlyAltimeterSetting',\n",
    "#     'HourlyDewPointTemperature',\n",
    "#     'HourlyDryBulbTemperature',\n",
    "#     'HourlyRelativeHumidity',\n",
    "#     'HourlyStationPressure',\n",
    "#     'HourlyVisibility',\n",
    "#     'HourlyWetBulbTemperature',\n",
    "#     'HourlyWindDirection',\n",
    "#     'HourlyWindSpeed',\n",
    "# ]\n",
    "\n",
    "# datetime_column = 'sched_depart_date_time_UTC'\n",
    "\n",
    "# columns_to_drop = [datetime_column] + [\"CANCELLED\",\"hour\",\"hourIndex\",\"DEP_DELAY\",\"TAIL_NUM\",\"DEP_UNIX_TIME\"]"
   ]
  },
  {
   "cell_type": "markdown",
   "metadata": {
    "application/vnd.databricks.v1+cell": {
     "cellMetadata": {
      "byteLimit": 2048000,
      "rowLimit": 10000
     },
     "inputWidgets": {},
     "nuid": "7795fcc9-e075-44b7-a016-f65fca48bcdd",
     "showTitle": false,
     "title": ""
    }
   },
   "source": [
    "## feature engineering"
   ]
  },
  {
   "cell_type": "code",
   "execution_count": 0,
   "metadata": {
    "application/vnd.databricks.v1+cell": {
     "cellMetadata": {
      "byteLimit": 2048000,
      "rowLimit": 10000
     },
     "inputWidgets": {},
     "nuid": "2273d68f-463f-4699-97fa-7889f09dd55d",
     "showTitle": false,
     "title": ""
    }
   },
   "outputs": [],
   "source": [
    "# def filter_and_select_columns(df: DataFrame, columns_to_select: list, columns_to_cast: list) -> DataFrame:\n",
    "#     for column in columns_to_cast:\n",
    "#         df = df.withColumn(column, col(column).cast('integer'))\n",
    "    \n",
    "#     df = df.select(*columns_to_select).filter(col(\"CANCELLED\") != \"1.0\").cache()\n",
    "#     return df"
   ]
  },
  {
   "cell_type": "code",
   "execution_count": 0,
   "metadata": {
    "application/vnd.databricks.v1+cell": {
     "cellMetadata": {
      "byteLimit": 2048000,
      "rowLimit": 10000
     },
     "inputWidgets": {},
     "nuid": "dd5cc299-9543-43a1-844b-49d869d606dd",
     "showTitle": false,
     "title": ""
    }
   },
   "outputs": [],
   "source": [
    "# def encode_categorical_features(df: DataFrame, categorical_columns: list) -> DataFrame:\n",
    "#     stages = []\n",
    "#     for categorical_col in categorical_columns:\n",
    "#         string_indexer = StringIndexer(inputCol=categorical_col, outputCol=categorical_col + \"Index\",handleInvalid=\"keep\")\n",
    "#         encoder = OneHotEncoder(inputCols=[string_indexer.getOutputCol()], outputCols=[categorical_col + \"classVec\"])\n",
    "#         stages += [string_indexer, encoder]\n",
    "    \n",
    "#     pipeline = Pipeline(stages=stages)\n",
    "#     pipeline_model = pipeline.fit(df)\n",
    "#     return pipeline_model.transform(df).cache()"
   ]
  },
  {
   "cell_type": "code",
   "execution_count": 0,
   "metadata": {
    "application/vnd.databricks.v1+cell": {
     "cellMetadata": {
      "byteLimit": 2048000,
      "rowLimit": 10000
     },
     "inputWidgets": {},
     "nuid": "96f5155a-461f-4e07-928d-65a92f723b06",
     "showTitle": false,
     "title": ""
    }
   },
   "outputs": [],
   "source": [
    "# def hour_to_bin(hour):\n",
    "#     return (int(hour) // 4) + 1\n",
    "\n",
    "# def bin_and_encode_hour(df: DataFrame, datetime_column: str) -> DataFrame:\n",
    "#     hour_to_bin_udf = udf(hour_to_bin, IntegerType())\n",
    "#     df = df.withColumn(\"hour\", hour_to_bin_udf(df[datetime_column].substr(12, 2)))\n",
    "    \n",
    "#     string_indexer = StringIndexer(inputCol=\"hour\", outputCol=\"hourIndex\").setHandleInvalid(\"skip\")\n",
    "#     encoder = OneHotEncoder(inputCols=[\"hourIndex\"], outputCols=[\"hourVec\"])\n",
    "#     pipeline = Pipeline(stages=[string_indexer, encoder])\n",
    "#     pipeline_model = pipeline.fit(df)\n",
    "    \n",
    "#     return pipeline_model.transform(df).cache()"
   ]
  },
  {
   "cell_type": "code",
   "execution_count": 0,
   "metadata": {
    "application/vnd.databricks.v1+cell": {
     "cellMetadata": {
      "byteLimit": 2048000,
      "rowLimit": 10000
     },
     "inputWidgets": {},
     "nuid": "5bf7d098-9898-4184-a278-f2f9842b06f6",
     "showTitle": false,
     "title": ""
    }
   },
   "outputs": [],
   "source": [
    "\n",
    "# def add_feature_engineering(df):\n",
    "#     # # including only necessary columns -- trying to minimize shuffle size\n",
    "#     # df = df.select('DEP_DELAY', 'sched_depart_date_time_UTC', 'ORIGIN', 'DEST', 'TAIL_NUM', 'YEAR', 'QUARTER', 'MONTH', 'FL_DATE', 'DEP_DEL15')\n",
    "\n",
    "#     # # cache df\n",
    "#     # df.cache()\n",
    "\n",
    "#     # Feature 1: Is near a major holiday\n",
    "#     holidays = ['2015-12-25', '2016-12-25', '2017-12-25', '2018-12-25', '2019-12-25','2015-11-26', '2016-11-24', '2017-11-23', '2018-11-22', '2019-11-28','2015-01-01', '2016-01-01', '2017-01-01', '2018-01-01', '2019-01-01','2015-07-04', '2016-07-04', '2017-07-04', '2018-07-04', '2019-07-04']\n",
    "\n",
    "#     # generate dates for 3 days before and after each major holiday\n",
    "#     holiday_dates = []\n",
    "#     for holiday in holidays:\n",
    "#         holiday_date = to_date(lit(holiday))\n",
    "#         holiday_dates += [date_add(holiday_date, offset) for offset in range(-3, 4)]\n",
    "\n",
    "    \n",
    "#     # add the is_near_holiday column to df   \n",
    "#     df = df.withColumn('is_near_holiday', when(col('FL_DATE').isin(holiday_dates), 1).otherwise(0))\n",
    "\n",
    "#     # add a departure unix timestamp column for use in windows\n",
    "#     df = df.withColumn('DEP_UNIX_TIME', unix_timestamp('sched_depart_date_time_UTC'))\n",
    "\n",
    "#     # optimize shuffle partitions based on how many cores\n",
    "#     spark = SparkSession.builder.getOrCreate()\n",
    "#     spark.conf.set(\"spark.sql.shuffle.partitions\", \"200\") \n",
    "\n",
    "#     # repartition the df based on origin to optimize things\n",
    "#     df = df.repartition(\"ORIGIN\")\n",
    "\n",
    "#     # windows for features (using unix time column)\n",
    "#     window_origin_4_to_2h = Window.partitionBy('ORIGIN').orderBy('DEP_UNIX_TIME').rangeBetween(-14400, -7200)\n",
    "#     window_dest_4_to_2h = Window.partitionBy('DEST').orderBy('DEP_UNIX_TIME').rangeBetween(-14400, -7200)\n",
    "#     window_tail_4_flights = Window.partitionBy('TAIL_NUM').orderBy('DEP_UNIX_TIME').rangeBetween(Window.unboundedPreceding, -7200)\n",
    "\n",
    "#     # calculate and add to df\n",
    "#     # Feature 2: % delays 2 hours before departure at origin\n",
    "#     df = df.withColumn(\n",
    "#         'percent_delays_2h_origin',\n",
    "#         avg('DEP_DEL15').over(window_origin_4_to_2h ) * 100)\n",
    "#     df = df.withColumn(\n",
    "#         'percent_delays_2h_origin',\n",
    "#         when(count('DEP_DEL15').over(window_origin_4_to_2h) == 0, 0)\n",
    "#     .otherwise((sum('DEP_DEL15').over(window_origin_4_to_2h) / count('DEP_DEL15').over(window_origin_4_to_2h)) * 100))\n",
    "#     # # Feature 3: % delays at destination airport before departure at origin\n",
    "#     df = df.withColumn(\n",
    "#         'percent_delays_2h_dest_before_depart',\n",
    "#         when(count('DEP_DEL15').over(window_dest_4_to_2h) == 0, 0)\n",
    "#     .otherwise((sum('DEP_DEL15').over(window_dest_4_to_2h) / count('DEP_DEL15').over(window_dest_4_to_2h)) * 100))\n",
    "#     # Feature 4: last 4 flights avg delay by tail number\n",
    "#     df = df.withColumn(\n",
    "#         'last_4_avg_delay_tail',\n",
    "#         avg('DEP_DELAY').over(window_tail_4_flights))\n",
    "\n",
    "\n",
    "#     # # unpersist cached df\n",
    "#     # df.unpersist()\n",
    "#     return df\n"
   ]
  },
  {
   "cell_type": "code",
   "execution_count": 0,
   "metadata": {
    "application/vnd.databricks.v1+cell": {
     "cellMetadata": {
      "byteLimit": 2048000,
      "rowLimit": 10000
     },
     "inputWidgets": {},
     "nuid": "fd219339-1c22-429f-b653-3d911d8dbbae",
     "showTitle": false,
     "title": ""
    }
   },
   "outputs": [],
   "source": [
    "# def drop_and_select_columns(df: DataFrame, categorical_columns: list, columns_to_drop: list) -> DataFrame:\n",
    "#     categorical_columns_indexed = [col + \"Index\" for col in categorical_columns]\n",
    "#     all_columns_to_drop = categorical_columns + categorical_columns_indexed + columns_to_drop\n",
    "#     remaining_columns = [col for col in df.columns if col not in all_columns_to_drop]\n",
    "#     return df.select(*remaining_columns).cache()"
   ]
  },
  {
   "cell_type": "code",
   "execution_count": 0,
   "metadata": {
    "application/vnd.databricks.v1+cell": {
     "cellMetadata": {
      "byteLimit": 2048000,
      "rowLimit": 10000
     },
     "inputWidgets": {},
     "nuid": "0771ddc0-c98a-47ce-bf61-85a1dc1b1669",
     "showTitle": false,
     "title": ""
    }
   },
   "outputs": [],
   "source": [
    "# def remove_nan_labels(data: DataFrame, label_column: str) -> DataFrame:\n",
    "#     clean_data = data.filter(col(label_column).isNotNull() & ~col(label_column).isNaN())\n",
    "#     return clean_data"
   ]
  },
  {
   "cell_type": "code",
   "execution_count": 0,
   "metadata": {
    "application/vnd.databricks.v1+cell": {
     "cellMetadata": {
      "byteLimit": 2048000,
      "rowLimit": 10000
     },
     "inputWidgets": {},
     "nuid": "89bdcae4-a12f-4d0e-8e56-222b319538c9",
     "showTitle": false,
     "title": ""
    }
   },
   "outputs": [],
   "source": []
  },
  {
   "cell_type": "code",
   "execution_count": 0,
   "metadata": {
    "application/vnd.databricks.v1+cell": {
     "cellMetadata": {
      "byteLimit": 2048000,
      "rowLimit": 10000
     },
     "inputWidgets": {},
     "nuid": "536c9e02-21a4-4473-a03a-2d493dc37efa",
     "showTitle": false,
     "title": ""
    }
   },
   "outputs": [],
   "source": [
    "# # Step 1: Filter and select columns\n",
    "# df_filtered = filter_and_select_columns(df_otpw_60m, columns_to_select, columns_to_cast)"
   ]
  },
  {
   "cell_type": "code",
   "execution_count": 0,
   "metadata": {
    "application/vnd.databricks.v1+cell": {
     "cellMetadata": {
      "byteLimit": 2048000,
      "rowLimit": 10000
     },
     "inputWidgets": {},
     "nuid": "fc337e85-1e55-4e1e-83a4-ab9c50fe30c3",
     "showTitle": false,
     "title": ""
    }
   },
   "outputs": [],
   "source": [
    "# # Step 2: Encode categorical features\n",
    "# df_encoded_categorical = encode_categorical_features(df_filtered, categorical_columns)"
   ]
  },
  {
   "cell_type": "code",
   "execution_count": 0,
   "metadata": {
    "application/vnd.databricks.v1+cell": {
     "cellMetadata": {
      "byteLimit": 2048000,
      "rowLimit": 10000
     },
     "inputWidgets": {},
     "nuid": "a14dfe99-ccc4-41b5-9743-73feb16a52ab",
     "showTitle": false,
     "title": ""
    }
   },
   "outputs": [],
   "source": [
    "# # Step 3: Include new features \n",
    "# df_encoded_new = add_feature_engineering(df_encoded_categorical)"
   ]
  },
  {
   "cell_type": "code",
   "execution_count": 0,
   "metadata": {
    "application/vnd.databricks.v1+cell": {
     "cellMetadata": {
      "byteLimit": 2048000,
      "rowLimit": 10000
     },
     "inputWidgets": {},
     "nuid": "fee6316f-f7e8-4254-ba30-6aaa008439be",
     "showTitle": false,
     "title": ""
    }
   },
   "outputs": [],
   "source": [
    "# # Step 3: Bin and encode the hour\n",
    "# df_encoded_hour = bin_and_encode_hour(df_encoded_categorical, datetime_column)"
   ]
  },
  {
   "cell_type": "code",
   "execution_count": 0,
   "metadata": {
    "application/vnd.databricks.v1+cell": {
     "cellMetadata": {
      "byteLimit": 2048000,
      "rowLimit": 10000
     },
     "inputWidgets": {},
     "nuid": "7912273d-f388-433b-b71e-01d410fc613d",
     "showTitle": false,
     "title": ""
    }
   },
   "outputs": [],
   "source": [
    "# # Step 4: Drop unnecessary columns and finalize the DataFrame\n",
    "# df_final = drop_and_select_columns(df_encoded_new, categorical_columns, columns_to_drop)"
   ]
  },
  {
   "cell_type": "code",
   "execution_count": 0,
   "metadata": {
    "application/vnd.databricks.v1+cell": {
     "cellMetadata": {
      "byteLimit": 2048000,
      "rowLimit": 10000
     },
     "inputWidgets": {},
     "nuid": "ef2fd35a-8631-4e2b-8a8f-47339ada7f2f",
     "showTitle": false,
     "title": ""
    }
   },
   "outputs": [],
   "source": [
    "# #Step5: clean data so that labels are not NA\n",
    "# df_final = remove_nan_labels(df_final,\"DEP_DEL15\")"
   ]
  },
  {
   "cell_type": "code",
   "execution_count": 0,
   "metadata": {
    "application/vnd.databricks.v1+cell": {
     "cellMetadata": {
      "byteLimit": 2048000,
      "rowLimit": 10000
     },
     "inputWidgets": {},
     "nuid": "d862b417-0bef-48ae-aca8-af3d56e9e630",
     "showTitle": false,
     "title": ""
    }
   },
   "outputs": [],
   "source": [
    "# df_final.count()"
   ]
  },
  {
   "cell_type": "code",
   "execution_count": 0,
   "metadata": {
    "application/vnd.databricks.v1+cell": {
     "cellMetadata": {
      "byteLimit": 2048000,
      "rowLimit": 10000
     },
     "inputWidgets": {},
     "nuid": "ead4f83f-1b9d-4743-a8e5-007e3a8fdf58",
     "showTitle": false,
     "title": ""
    }
   },
   "outputs": [],
   "source": [
    "# #persistent store\n",
    "# transformed_data_path = f\"{team_blob_url}/data_OPTW_60MON_LR\"\n",
    "# df_final.write.format(\"parquet\").mode(\"overwrite\").save(transformed_data_path)"
   ]
  },
  {
   "cell_type": "markdown",
   "metadata": {
    "application/vnd.databricks.v1+cell": {
     "cellMetadata": {},
     "inputWidgets": {},
     "nuid": "f888176d-8e89-48d3-a532-efc89485812d",
     "showTitle": false,
     "title": ""
    }
   },
   "source": [
    "\n",
    "## run from below after transformed data stored"
   ]
  },
  {
   "cell_type": "code",
   "execution_count": 0,
   "metadata": {
    "application/vnd.databricks.v1+cell": {
     "cellMetadata": {
      "byteLimit": 2048000,
      "rowLimit": 10000
     },
     "inputWidgets": {},
     "nuid": "a9f11c83-8c08-4143-8d89-cbb70d514226",
     "showTitle": false,
     "title": ""
    }
   },
   "outputs": [
    {
     "output_type": "display_data",
     "data": {
      "text/html": [
       "<style scoped>\n",
       "  .table-result-container {\n",
       "    max-height: 300px;\n",
       "    overflow: auto;\n",
       "  }\n",
       "  table, th, td {\n",
       "    border: 1px solid black;\n",
       "    border-collapse: collapse;\n",
       "  }\n",
       "  th, td {\n",
       "    padding: 5px;\n",
       "  }\n",
       "  th {\n",
       "    text-align: left;\n",
       "  }\n",
       "</style><div class='table-result-container'><table class='table-result'><thead style='background-color: white'><tr><th>path</th><th>name</th><th>size</th><th>modificationTime</th></tr></thead><tbody><tr><td>wasbs://team3-4@daphnelin.blob.core.windows.net/TP/</td><td>TP/</td><td>0</td><td>1713057733000</td></tr><tr><td>wasbs://team3-4@daphnelin.blob.core.windows.net/airport_codes/</td><td>airport_codes/</td><td>0</td><td>1713482499000</td></tr><tr><td>wasbs://team3-4@daphnelin.blob.core.windows.net/avg_delay_by_time/</td><td>avg_delay_by_time/</td><td>0</td><td>1713126605000</td></tr><tr><td>wasbs://team3-4@daphnelin.blob.core.windows.net/data_OPTW_12MON_LR/</td><td>data_OPTW_12MON_LR/</td><td>0</td><td>1713229256000</td></tr><tr><td>wasbs://team3-4@daphnelin.blob.core.windows.net/data_OPTW_12MON_LR_GS_preds/</td><td>data_OPTW_12MON_LR_GS_preds/</td><td>0</td><td>1713357494000</td></tr><tr><td>wasbs://team3-4@daphnelin.blob.core.windows.net/data_OPTW_12MON_LR_less_cat/</td><td>data_OPTW_12MON_LR_less_cat/</td><td>0</td><td>1713357396000</td></tr><tr><td>wasbs://team3-4@daphnelin.blob.core.windows.net/data_OPTW_12MON_XGB/</td><td>data_OPTW_12MON_XGB/</td><td>0</td><td>1713310615000</td></tr><tr><td>wasbs://team3-4@daphnelin.blob.core.windows.net/data_OPTW_60MON_LOGREG_V1_predictions/</td><td>data_OPTW_60MON_LOGREG_V1_predictions/</td><td>0</td><td>1713735492000</td></tr><tr><td>wasbs://team3-4@daphnelin.blob.core.windows.net/data_OPTW_60MON_LR/</td><td>data_OPTW_60MON_LR/</td><td>0</td><td>1713551036000</td></tr><tr><td>wasbs://team3-4@daphnelin.blob.core.windows.net/data_OPTW_60MON_LR_less_cat/</td><td>data_OPTW_60MON_LR_less_cat/</td><td>0</td><td>1713500651000</td></tr><tr><td>wasbs://team3-4@daphnelin.blob.core.windows.net/data_OPTW_60MON_NN_V1/</td><td>data_OPTW_60MON_NN_V1/</td><td>0</td><td>1713525202000</td></tr><tr><td>wasbs://team3-4@daphnelin.blob.core.windows.net/data_OPTW_60MON_NN_V1_predictions/</td><td>data_OPTW_60MON_NN_V1_predictions/</td><td>0</td><td>1713568274000</td></tr><tr><td>wasbs://team3-4@daphnelin.blob.core.windows.net/data_OPTW_60MON_XGB/</td><td>data_OPTW_60MON_XGB/</td><td>0</td><td>1713327602000</td></tr><tr><td>wasbs://team3-4@daphnelin.blob.core.windows.net/data_OPTW_60MON_XGB_less_cat/</td><td>data_OPTW_60MON_XGB_less_cat/</td><td>0</td><td>1713364747000</td></tr><tr><td>wasbs://team3-4@daphnelin.blob.core.windows.net/feature_engineered_data/</td><td>feature_engineered_data/</td><td>0</td><td>1713498511000</td></tr><tr><td>wasbs://team3-4@daphnelin.blob.core.windows.net/feature_engineered_data_3m/</td><td>feature_engineered_data_3m/</td><td>0</td><td>1713488909000</td></tr><tr><td>wasbs://team3-4@daphnelin.blob.core.windows.net/stations/</td><td>stations/</td><td>0</td><td>1713482873000</td></tr><tr><td>wasbs://team3-4@daphnelin.blob.core.windows.net/stations_with_iata/</td><td>stations_with_iata/</td><td>0</td><td>1713725532000</td></tr><tr><td>wasbs://team3-4@daphnelin.blob.core.windows.net/team3-4_combined_dataset/</td><td>team3-4_combined_dataset/</td><td>0</td><td>1713662542000</td></tr><tr><td>wasbs://team3-4@daphnelin.blob.core.windows.net/test.txt</td><td>test.txt</td><td>12</td><td>1713057733000</td></tr><tr><td>wasbs://team3-4@daphnelin.blob.core.windows.net/unique_airports/</td><td>unique_airports/</td><td>0</td><td>1713725548000</td></tr><tr><td>wasbs://team3-4@daphnelin.blob.core.windows.net/weather_sample/</td><td>weather_sample/</td><td>0</td><td>1713483927000</td></tr></tbody></table></div>"
      ]
     },
     "metadata": {
      "application/vnd.databricks.v1+output": {
       "addedWidgets": {},
       "aggData": [],
       "aggError": "",
       "aggOverflow": false,
       "aggSchema": [],
       "aggSeriesLimitReached": false,
       "aggType": "",
       "arguments": {},
       "columnCustomDisplayInfos": {},
       "data": [
        [
         "wasbs://team3-4@daphnelin.blob.core.windows.net/TP/",
         "TP/",
         0,
         1713057733000
        ],
        [
         "wasbs://team3-4@daphnelin.blob.core.windows.net/airport_codes/",
         "airport_codes/",
         0,
         1713482499000
        ],
        [
         "wasbs://team3-4@daphnelin.blob.core.windows.net/avg_delay_by_time/",
         "avg_delay_by_time/",
         0,
         1713126605000
        ],
        [
         "wasbs://team3-4@daphnelin.blob.core.windows.net/data_OPTW_12MON_LR/",
         "data_OPTW_12MON_LR/",
         0,
         1713229256000
        ],
        [
         "wasbs://team3-4@daphnelin.blob.core.windows.net/data_OPTW_12MON_LR_GS_preds/",
         "data_OPTW_12MON_LR_GS_preds/",
         0,
         1713357494000
        ],
        [
         "wasbs://team3-4@daphnelin.blob.core.windows.net/data_OPTW_12MON_LR_less_cat/",
         "data_OPTW_12MON_LR_less_cat/",
         0,
         1713357396000
        ],
        [
         "wasbs://team3-4@daphnelin.blob.core.windows.net/data_OPTW_12MON_XGB/",
         "data_OPTW_12MON_XGB/",
         0,
         1713310615000
        ],
        [
         "wasbs://team3-4@daphnelin.blob.core.windows.net/data_OPTW_60MON_LOGREG_V1_predictions/",
         "data_OPTW_60MON_LOGREG_V1_predictions/",
         0,
         1713735492000
        ],
        [
         "wasbs://team3-4@daphnelin.blob.core.windows.net/data_OPTW_60MON_LR/",
         "data_OPTW_60MON_LR/",
         0,
         1713551036000
        ],
        [
         "wasbs://team3-4@daphnelin.blob.core.windows.net/data_OPTW_60MON_LR_less_cat/",
         "data_OPTW_60MON_LR_less_cat/",
         0,
         1713500651000
        ],
        [
         "wasbs://team3-4@daphnelin.blob.core.windows.net/data_OPTW_60MON_NN_V1/",
         "data_OPTW_60MON_NN_V1/",
         0,
         1713525202000
        ],
        [
         "wasbs://team3-4@daphnelin.blob.core.windows.net/data_OPTW_60MON_NN_V1_predictions/",
         "data_OPTW_60MON_NN_V1_predictions/",
         0,
         1713568274000
        ],
        [
         "wasbs://team3-4@daphnelin.blob.core.windows.net/data_OPTW_60MON_XGB/",
         "data_OPTW_60MON_XGB/",
         0,
         1713327602000
        ],
        [
         "wasbs://team3-4@daphnelin.blob.core.windows.net/data_OPTW_60MON_XGB_less_cat/",
         "data_OPTW_60MON_XGB_less_cat/",
         0,
         1713364747000
        ],
        [
         "wasbs://team3-4@daphnelin.blob.core.windows.net/feature_engineered_data/",
         "feature_engineered_data/",
         0,
         1713498511000
        ],
        [
         "wasbs://team3-4@daphnelin.blob.core.windows.net/feature_engineered_data_3m/",
         "feature_engineered_data_3m/",
         0,
         1713488909000
        ],
        [
         "wasbs://team3-4@daphnelin.blob.core.windows.net/stations/",
         "stations/",
         0,
         1713482873000
        ],
        [
         "wasbs://team3-4@daphnelin.blob.core.windows.net/stations_with_iata/",
         "stations_with_iata/",
         0,
         1713725532000
        ],
        [
         "wasbs://team3-4@daphnelin.blob.core.windows.net/team3-4_combined_dataset/",
         "team3-4_combined_dataset/",
         0,
         1713662542000
        ],
        [
         "wasbs://team3-4@daphnelin.blob.core.windows.net/test.txt",
         "test.txt",
         12,
         1713057733000
        ],
        [
         "wasbs://team3-4@daphnelin.blob.core.windows.net/unique_airports/",
         "unique_airports/",
         0,
         1713725548000
        ],
        [
         "wasbs://team3-4@daphnelin.blob.core.windows.net/weather_sample/",
         "weather_sample/",
         0,
         1713483927000
        ]
       ],
       "datasetInfos": [],
       "dbfsResultPath": null,
       "isJsonSchema": true,
       "metadata": {},
       "overflow": false,
       "plotOptions": {
        "customPlotOptions": {},
        "displayType": "table",
        "pivotAggregation": null,
        "pivotColumns": null,
        "xColumns": null,
        "yColumns": null
       },
       "removedWidgets": [],
       "schema": [
        {
         "metadata": "{}",
         "name": "path",
         "type": "\"string\""
        },
        {
         "metadata": "{}",
         "name": "name",
         "type": "\"string\""
        },
        {
         "metadata": "{}",
         "name": "size",
         "type": "\"long\""
        },
        {
         "metadata": "{}",
         "name": "modificationTime",
         "type": "\"long\""
        }
       ],
       "type": "table"
      }
     },
     "output_type": "display_data"
    }
   ],
   "source": [
    "display(dbutils.fs.ls(f\"{team_blob_url}\"))"
   ]
  },
  {
   "cell_type": "code",
   "execution_count": 0,
   "metadata": {
    "application/vnd.databricks.v1+cell": {
     "cellMetadata": {
      "byteLimit": 2048000,
      "rowLimit": 10000
     },
     "inputWidgets": {},
     "nuid": "216b497a-e733-4c49-a330-f7c6a5273160",
     "showTitle": false,
     "title": ""
    }
   },
   "outputs": [],
   "source": [
    "#persistent store load\n",
    "\n",
    "transformed_data_path = f\"{team_blob_url}/data_OPTW_60MON_LR\"\n",
    "df_final = spark.read.format(\"parquet\").load(transformed_data_path)\n"
   ]
  },
  {
   "cell_type": "markdown",
   "metadata": {
    "application/vnd.databricks.v1+cell": {
     "cellMetadata": {
      "byteLimit": 2048000,
      "rowLimit": 10000
     },
     "inputWidgets": {},
     "nuid": "d94358ca-4b9d-4f4f-ade9-877c780c3c29",
     "showTitle": false,
     "title": ""
    }
   },
   "source": [
    "# split data and downsample"
   ]
  },
  {
   "cell_type": "code",
   "execution_count": 0,
   "metadata": {
    "application/vnd.databricks.v1+cell": {
     "cellMetadata": {
      "byteLimit": 2048000,
      "rowLimit": 10000
     },
     "inputWidgets": {},
     "nuid": "0af40639-3d23-4174-8589-2eba2afcac96",
     "showTitle": false,
     "title": ""
    }
   },
   "outputs": [],
   "source": [
    "split_date = \"2019-01-01\"\n",
    "train_data = df_final.filter(F.col(\"FL_DATE\") < split_date)\n",
    "test_data = df_final.filter(F.col(\"FL_DATE\") >= split_date)\n",
    "train_data = train_data.drop('FL_DATE')\n",
    "test_data = test_data.drop('FL_DATE')\n"
   ]
  },
  {
   "cell_type": "code",
   "execution_count": 0,
   "metadata": {
    "application/vnd.databricks.v1+cell": {
     "cellMetadata": {
      "byteLimit": 2048000,
      "rowLimit": 10000
     },
     "inputWidgets": {},
     "nuid": "301432ce-702f-42ed-a5c1-42b9dcd21f2c",
     "showTitle": false,
     "title": ""
    }
   },
   "outputs": [
    {
     "output_type": "execute_result",
     "data": {
      "text/plain": [
       "['DISTANCE',\n",
       " 'HourlyAltimeterSetting',\n",
       " 'HourlyDewPointTemperature',\n",
       " 'HourlyDryBulbTemperature',\n",
       " 'HourlyRelativeHumidity',\n",
       " 'HourlyStationPressure',\n",
       " 'HourlyVisibility',\n",
       " 'HourlyWetBulbTemperature',\n",
       " 'HourlyWindDirection',\n",
       " 'HourlyWindSpeed',\n",
       " 'YEARclassVec',\n",
       " 'QUARTERclassVec',\n",
       " 'MONTHclassVec',\n",
       " 'DAY_OF_MONTHclassVec',\n",
       " 'DAY_OF_WEEKclassVec',\n",
       " 'ORIGINclassVec',\n",
       " 'ORIGIN_CITY_MARKET_IDclassVec',\n",
       " 'ORIGIN_STATE_ABRclassVec',\n",
       " 'DESTclassVec',\n",
       " 'DEST_CITY_MARKET_IDclassVec',\n",
       " 'DEST_STATE_ABRclassVec',\n",
       " 'is_near_holiday',\n",
       " 'percent_delays_2h_origin',\n",
       " 'percent_delays_2h_dest_before_depart',\n",
       " 'last_4_avg_delay_tail']"
      ]
     },
     "execution_count": 7,
     "metadata": {},
     "output_type": "execute_result"
    }
   ],
   "source": [
    "#extract feature list\n",
    "feature_list = df_final.columns\n",
    "feature_list.remove('DEP_DEL15')\n",
    "feature_list.remove('FL_DATE')\n",
    "feature_list"
   ]
  },
  {
   "cell_type": "markdown",
   "metadata": {
    "application/vnd.databricks.v1+cell": {
     "cellMetadata": {
      "byteLimit": 2048000,
      "rowLimit": 10000
     },
     "inputWidgets": {},
     "nuid": "d41d31c6-4c3d-42fc-a139-3dba35d1a214",
     "showTitle": false,
     "title": ""
    }
   },
   "source": [
    "\n",
    "## downsampling"
   ]
  },
  {
   "cell_type": "code",
   "execution_count": 0,
   "metadata": {
    "application/vnd.databricks.v1+cell": {
     "cellMetadata": {
      "byteLimit": 2048000,
      "rowLimit": 10000
     },
     "inputWidgets": {},
     "nuid": "adf8405e-6ade-482e-9998-45addb9b3761",
     "showTitle": false,
     "title": ""
    }
   },
   "outputs": [],
   "source": [
    "def downsample_majority_class(df: DataFrame) -> DataFrame:\n",
    "    # Separate the DataFrame by class\n",
    "    majority_df = df.filter(col(\"DEP_DEL15\") == 0)\n",
    "    minority_df = df.filter(col(\"DEP_DEL15\") == 1)\n",
    "\n",
    "    # Count the number of instances in the minority class\n",
    "    minority_class_count = minority_df.count()\n",
    "\n",
    "    # Calculate the fraction needed to sample the majority class to match the minority class size\n",
    "    total_majority_count = majority_df.count()\n",
    "    sample_fraction = minority_class_count / float(total_majority_count) if total_majority_count != 0 else 0\n",
    "\n",
    "    # Sample the majority class\n",
    "    downsampled_majority_df = majority_df.sample(withReplacement=False, fraction=sample_fraction)\n",
    "\n",
    "    # Combine the downsampled majority class DataFrame with the minority class DataFrame\n",
    "    balanced_df = downsampled_majority_df.union(minority_df)\n",
    "\n",
    "    return balanced_df\n"
   ]
  },
  {
   "cell_type": "code",
   "execution_count": 0,
   "metadata": {
    "application/vnd.databricks.v1+cell": {
     "cellMetadata": {
      "byteLimit": 2048000,
      "rowLimit": 10000
     },
     "inputWidgets": {},
     "nuid": "188ce03e-0677-4b95-8188-2cd747bfd9ba",
     "showTitle": false,
     "title": ""
    }
   },
   "outputs": [],
   "source": [
    "train_data_balanced = downsample_majority_class(train_data)"
   ]
  },
  {
   "cell_type": "markdown",
   "metadata": {
    "application/vnd.databricks.v1+cell": {
     "cellMetadata": {
      "byteLimit": 2048000,
      "rowLimit": 10000
     },
     "inputWidgets": {},
     "nuid": "8c1b99df-2198-42fe-ae67-54c3f932900f",
     "showTitle": false,
     "title": ""
    }
   },
   "source": [
    "\n",
    "# model training"
   ]
  },
  {
   "cell_type": "code",
   "execution_count": 0,
   "metadata": {
    "application/vnd.databricks.v1+cell": {
     "cellMetadata": {
      "byteLimit": 2048000,
      "rowLimit": 10000
     },
     "inputWidgets": {},
     "nuid": "3dec115a-2de5-4b31-86d1-a5ea34edc2a6",
     "showTitle": false,
     "title": ""
    }
   },
   "outputs": [],
   "source": [
    "assembler = VectorAssembler(inputCols=feature_list, outputCol=\"features\",handleInvalid=\"skip\")\n",
    "train_data_assembled = assembler.transform(train_data_balanced)\n",
    "test_data_assembled = assembler.transform(test_data)\n"
   ]
  },
  {
   "cell_type": "code",
   "execution_count": 0,
   "metadata": {
    "application/vnd.databricks.v1+cell": {
     "cellMetadata": {
      "byteLimit": 2048000,
      "rowLimit": 10000
     },
     "inputWidgets": {},
     "nuid": "406cf080-eec9-45fb-a663-57ede33a170a",
     "showTitle": false,
     "title": ""
    }
   },
   "outputs": [
    {
     "output_type": "stream",
     "name": "stderr",
     "output_type": "stream",
     "text": [
      "/databricks/python/lib/python3.10/site-packages/xgboost/sklearn.py:782: UserWarning: Loading a native XGBoost model with Scikit-Learn interface.\n  warnings.warn(\"Loading a native XGBoost model with Scikit-Learn interface.\")\n"
     ]
    }
   ],
   "source": [
    "\n",
    "small_data = train_data_assembled.sample(fraction=0.02, seed=42)\n",
    "\n",
    "\n",
    "classifier = SparkXGBClassifier(\n",
    "    features_col=\"features\", \n",
    "    label_col=\"DEP_DEL15\",\n",
    "    numWorkers=4,  \n",
    "    num_round=20,  \n",
    "    max_depth=6,\n",
    "    min_child_weight=1,  # minimum sum of instance weight (hessian) needed in a child\n",
    "    subsample=0.8,  #subsample ratio of the training instances\n",
    "    colsample_bytree=0.8  #subsample ratio of columns when constructing each tree\n",
    "    )\n",
    "\n",
    "fitted_classifier = classifier.fit(small_data)"
   ]
  },
  {
   "cell_type": "markdown",
   "metadata": {
    "application/vnd.databricks.v1+cell": {
     "cellMetadata": {},
     "inputWidgets": {},
     "nuid": "5baab99b-5205-4939-9da8-391de66baf34",
     "showTitle": false,
     "title": ""
    }
   },
   "source": [
    "## save model\n",
    "\n"
   ]
  },
  {
   "cell_type": "code",
   "execution_count": 0,
   "metadata": {
    "application/vnd.databricks.v1+cell": {
     "cellMetadata": {},
     "inputWidgets": {},
     "nuid": "4874bc2c-130b-4a82-85bd-2261e7b00684",
     "showTitle": false,
     "title": ""
    }
   },
   "outputs": [],
   "source": [
    "# #loading model next time \n",
    "# from xgboost.spark import SparkXGBClassifier\n",
    "\n",
    "# # Load the model\n",
    "# loaded_model = SparkXGBClassifier.load(model_path)\n"
   ]
  },
  {
   "cell_type": "markdown",
   "metadata": {
    "application/vnd.databricks.v1+cell": {
     "cellMetadata": {
      "byteLimit": 2048000,
      "rowLimit": 10000
     },
     "inputWidgets": {},
     "nuid": "187231b7-e7ba-43db-91eb-48380edf7818",
     "showTitle": false,
     "title": ""
    }
   },
   "source": [
    "# Evaluation"
   ]
  },
  {
   "cell_type": "markdown",
   "metadata": {
    "application/vnd.databricks.v1+cell": {
     "cellMetadata": {},
     "inputWidgets": {},
     "nuid": "5885fc35-92ae-4966-971d-548596aa965a",
     "showTitle": false,
     "title": ""
    }
   },
   "source": [
    "## feature importance"
   ]
  },
  {
   "cell_type": "code",
   "execution_count": 0,
   "metadata": {
    "application/vnd.databricks.v1+cell": {
     "cellMetadata": {
      "byteLimit": 2048000,
      "rowLimit": 10000
     },
     "inputWidgets": {},
     "nuid": "ba1411ea-3691-4d9c-95ad-0a452a3b0856",
     "showTitle": false,
     "title": ""
    }
   },
   "outputs": [
    {
     "output_type": "execute_result",
     "data": {
      "text/plain": [
       "['DISTANCE',\n",
       " 'HourlyAltimeterSetting',\n",
       " 'HourlyDewPointTemperature',\n",
       " 'HourlyDryBulbTemperature',\n",
       " 'HourlyRelativeHumidity',\n",
       " 'HourlyStationPressure',\n",
       " 'HourlyVisibility',\n",
       " 'HourlyWetBulbTemperature',\n",
       " 'HourlyWindDirection',\n",
       " 'HourlyWindSpeed',\n",
       " 'YEARclassVec',\n",
       " 'QUARTERclassVec',\n",
       " 'MONTHclassVec',\n",
       " 'DAY_OF_MONTHclassVec',\n",
       " 'DAY_OF_WEEKclassVec',\n",
       " 'ORIGINclassVec',\n",
       " 'ORIGIN_CITY_MARKET_IDclassVec',\n",
       " 'ORIGIN_STATE_ABRclassVec',\n",
       " 'DESTclassVec',\n",
       " 'DEST_CITY_MARKET_IDclassVec',\n",
       " 'DEST_STATE_ABRclassVec',\n",
       " 'is_near_holiday',\n",
       " 'percent_delays_2h_origin',\n",
       " 'percent_delays_2h_dest_before_depart',\n",
       " 'last_4_avg_delay_tail']"
      ]
     },
     "execution_count": 20,
     "metadata": {},
     "output_type": "execute_result"
    }
   ],
   "source": [
    "feature_list"
   ]
  },
  {
   "cell_type": "code",
   "execution_count": 0,
   "metadata": {
    "application/vnd.databricks.v1+cell": {
     "cellMetadata": {
      "byteLimit": 2048000,
      "rowLimit": 10000
     },
     "inputWidgets": {},
     "nuid": "2490595c-d59b-4dc0-8644-1e4d8d58465e",
     "showTitle": false,
     "title": ""
    }
   },
   "outputs": [
    {
     "output_type": "execute_result",
     "data": {
      "text/plain": [
       "{'f0': 231.0,\n",
       " 'f1': 42.0,\n",
       " 'f2': 186.0,\n",
       " 'f3': 216.0,\n",
       " 'f4': 277.0,\n",
       " 'f5': 40.0,\n",
       " 'f6': 47.0,\n",
       " 'f7': 108.0,\n",
       " 'f8': 220.0,\n",
       " 'f9': 166.0,\n",
       " 'f11': 18.0,\n",
       " 'f12': 28.0,\n",
       " 'f13': 24.0,\n",
       " 'f14': 22.0,\n",
       " 'f15': 12.0,\n",
       " 'f16': 17.0,\n",
       " 'f17': 18.0,\n",
       " 'f18': 9.0,\n",
       " 'f19': 12.0,\n",
       " 'f20': 14.0,\n",
       " 'f21': 12.0,\n",
       " 'f22': 7.0,\n",
       " 'f23': 11.0,\n",
       " 'f24': 12.0,\n",
       " 'f25': 14.0,\n",
       " 'f26': 13.0,\n",
       " 'f27': 11.0,\n",
       " 'f28': 16.0,\n",
       " 'f29': 13.0,\n",
       " 'f30': 8.0,\n",
       " 'f31': 3.0,\n",
       " 'f32': 1.0,\n",
       " 'f33': 8.0,\n",
       " 'f34': 4.0,\n",
       " 'f35': 4.0,\n",
       " 'f36': 7.0,\n",
       " 'f37': 6.0,\n",
       " 'f38': 5.0,\n",
       " 'f39': 5.0,\n",
       " 'f40': 1.0,\n",
       " 'f41': 3.0,\n",
       " 'f42': 4.0,\n",
       " 'f43': 3.0,\n",
       " 'f44': 6.0,\n",
       " 'f45': 5.0,\n",
       " 'f46': 8.0,\n",
       " 'f47': 2.0,\n",
       " 'f48': 8.0,\n",
       " 'f49': 8.0,\n",
       " 'f50': 4.0,\n",
       " 'f51': 5.0,\n",
       " 'f52': 4.0,\n",
       " 'f53': 5.0,\n",
       " 'f54': 5.0,\n",
       " 'f55': 4.0,\n",
       " 'f56': 3.0,\n",
       " 'f57': 5.0,\n",
       " 'f58': 6.0,\n",
       " 'f59': 5.0,\n",
       " 'f60': 3.0,\n",
       " 'f61': 2.0,\n",
       " 'f62': 14.0,\n",
       " 'f63': 21.0,\n",
       " 'f64': 24.0,\n",
       " 'f65': 13.0,\n",
       " 'f66': 19.0,\n",
       " 'f67': 22.0,\n",
       " 'f68': 19.0,\n",
       " 'f69': 4.0,\n",
       " 'f70': 8.0,\n",
       " 'f71': 4.0,\n",
       " 'f73': 4.0,\n",
       " 'f74': 3.0,\n",
       " 'f75': 1.0,\n",
       " 'f76': 4.0,\n",
       " 'f77': 3.0,\n",
       " 'f78': 3.0,\n",
       " 'f79': 8.0,\n",
       " 'f80': 1.0,\n",
       " 'f81': 3.0,\n",
       " 'f82': 6.0,\n",
       " 'f83': 3.0,\n",
       " 'f84': 4.0,\n",
       " 'f85': 3.0,\n",
       " 'f86': 3.0,\n",
       " 'f87': 6.0,\n",
       " 'f88': 6.0,\n",
       " 'f90': 2.0,\n",
       " 'f91': 1.0,\n",
       " 'f92': 6.0,\n",
       " 'f93': 1.0,\n",
       " 'f94': 1.0,\n",
       " 'f96': 10.0,\n",
       " 'f97': 2.0,\n",
       " 'f98': 2.0,\n",
       " 'f99': 1.0,\n",
       " 'f100': 5.0,\n",
       " 'f101': 1.0,\n",
       " 'f102': 2.0,\n",
       " 'f104': 1.0,\n",
       " 'f106': 4.0,\n",
       " 'f107': 3.0,\n",
       " 'f108': 2.0,\n",
       " 'f109': 3.0,\n",
       " 'f110': 2.0,\n",
       " 'f112': 3.0,\n",
       " 'f113': 4.0,\n",
       " 'f114': 6.0,\n",
       " 'f115': 1.0,\n",
       " 'f116': 1.0,\n",
       " 'f117': 3.0,\n",
       " 'f119': 1.0,\n",
       " 'f120': 1.0,\n",
       " 'f122': 3.0,\n",
       " 'f125': 1.0,\n",
       " 'f126': 3.0,\n",
       " 'f127': 1.0,\n",
       " 'f128': 2.0,\n",
       " 'f129': 1.0,\n",
       " 'f132': 1.0,\n",
       " 'f133': 5.0,\n",
       " 'f134': 1.0,\n",
       " 'f136': 1.0,\n",
       " 'f139': 1.0,\n",
       " 'f142': 1.0,\n",
       " 'f143': 2.0,\n",
       " 'f144': 1.0,\n",
       " 'f145': 2.0,\n",
       " 'f147': 1.0,\n",
       " 'f148': 1.0,\n",
       " 'f149': 1.0,\n",
       " 'f152': 1.0,\n",
       " 'f155': 1.0,\n",
       " 'f158': 3.0,\n",
       " 'f160': 1.0,\n",
       " 'f162': 1.0,\n",
       " 'f164': 2.0,\n",
       " 'f166': 1.0,\n",
       " 'f170': 1.0,\n",
       " 'f173': 1.0,\n",
       " 'f176': 1.0,\n",
       " 'f177': 2.0,\n",
       " 'f179': 1.0,\n",
       " 'f180': 1.0,\n",
       " 'f181': 1.0,\n",
       " 'f183': 2.0,\n",
       " 'f189': 4.0,\n",
       " 'f192': 1.0,\n",
       " 'f193': 2.0,\n",
       " 'f194': 1.0,\n",
       " 'f202': 1.0,\n",
       " 'f203': 2.0,\n",
       " 'f204': 1.0,\n",
       " 'f207': 1.0,\n",
       " 'f208': 1.0,\n",
       " 'f211': 1.0,\n",
       " 'f214': 1.0,\n",
       " 'f218': 2.0,\n",
       " 'f219': 1.0,\n",
       " 'f221': 1.0,\n",
       " 'f222': 1.0,\n",
       " 'f225': 1.0,\n",
       " 'f226': 1.0,\n",
       " 'f227': 1.0,\n",
       " 'f228': 1.0,\n",
       " 'f230': 2.0,\n",
       " 'f231': 1.0,\n",
       " 'f232': 2.0,\n",
       " 'f233': 1.0,\n",
       " 'f234': 3.0,\n",
       " 'f243': 2.0,\n",
       " 'f248': 1.0,\n",
       " 'f249': 2.0,\n",
       " 'f252': 1.0,\n",
       " 'f253': 1.0,\n",
       " 'f257': 3.0,\n",
       " 'f258': 2.0,\n",
       " 'f260': 1.0,\n",
       " 'f261': 2.0,\n",
       " 'f264': 1.0,\n",
       " 'f270': 2.0,\n",
       " 'f271': 1.0,\n",
       " 'f273': 1.0,\n",
       " 'f276': 2.0,\n",
       " 'f278': 2.0,\n",
       " 'f279': 2.0,\n",
       " 'f281': 1.0,\n",
       " 'f282': 1.0,\n",
       " 'f286': 1.0,\n",
       " 'f292': 2.0,\n",
       " 'f296': 1.0,\n",
       " 'f304': 1.0,\n",
       " 'f306': 1.0,\n",
       " 'f309': 1.0,\n",
       " 'f310': 1.0,\n",
       " 'f313': 1.0,\n",
       " 'f317': 1.0,\n",
       " 'f318': 1.0,\n",
       " 'f326': 2.0,\n",
       " 'f332': 2.0,\n",
       " 'f337': 1.0,\n",
       " 'f340': 1.0,\n",
       " 'f346': 2.0,\n",
       " 'f353': 1.0,\n",
       " 'f355': 1.0,\n",
       " 'f357': 2.0,\n",
       " 'f377': 1.0,\n",
       " 'f378': 1.0,\n",
       " 'f380': 1.0,\n",
       " 'f390': 1.0,\n",
       " 'f392': 1.0,\n",
       " 'f404': 1.0,\n",
       " 'f438': 3.0,\n",
       " 'f439': 8.0,\n",
       " 'f440': 13.0,\n",
       " 'f441': 7.0,\n",
       " 'f442': 4.0,\n",
       " 'f443': 3.0,\n",
       " 'f444': 6.0,\n",
       " 'f445': 2.0,\n",
       " 'f446': 5.0,\n",
       " 'f447': 1.0,\n",
       " 'f448': 1.0,\n",
       " 'f449': 1.0,\n",
       " 'f451': 2.0,\n",
       " 'f456': 3.0,\n",
       " 'f457': 1.0,\n",
       " 'f460': 1.0,\n",
       " 'f463': 1.0,\n",
       " 'f464': 1.0,\n",
       " 'f467': 1.0,\n",
       " 'f473': 1.0,\n",
       " 'f484': 1.0,\n",
       " 'f486': 1.0,\n",
       " 'f487': 2.0,\n",
       " 'f492': 1.0,\n",
       " 'f509': 1.0,\n",
       " 'f521': 1.0,\n",
       " 'f536': 1.0,\n",
       " 'f546': 1.0,\n",
       " 'f556': 1.0,\n",
       " 'f557': 1.0,\n",
       " 'f564': 2.0,\n",
       " 'f565': 1.0,\n",
       " 'f574': 1.0,\n",
       " 'f593': 1.0,\n",
       " 'f612': 1.0,\n",
       " 'f639': 1.0,\n",
       " 'f643': 1.0,\n",
       " 'f659': 1.0,\n",
       " 'f679': 1.0,\n",
       " 'f780': 12.0,\n",
       " 'f781': 7.0,\n",
       " 'f782': 6.0,\n",
       " 'f783': 5.0,\n",
       " 'f784': 2.0,\n",
       " 'f785': 2.0,\n",
       " 'f786': 2.0,\n",
       " 'f787': 4.0,\n",
       " 'f788': 1.0,\n",
       " 'f789': 2.0,\n",
       " 'f790': 4.0,\n",
       " 'f791': 1.0,\n",
       " 'f792': 3.0,\n",
       " 'f794': 1.0,\n",
       " 'f795': 1.0,\n",
       " 'f796': 3.0,\n",
       " 'f797': 4.0,\n",
       " 'f798': 1.0,\n",
       " 'f799': 8.0,\n",
       " 'f800': 1.0,\n",
       " 'f801': 1.0,\n",
       " 'f802': 1.0,\n",
       " 'f803': 3.0,\n",
       " 'f804': 2.0,\n",
       " 'f805': 2.0,\n",
       " 'f807': 1.0,\n",
       " 'f811': 1.0,\n",
       " 'f812': 2.0,\n",
       " 'f813': 3.0,\n",
       " 'f815': 2.0,\n",
       " 'f816': 2.0,\n",
       " 'f824': 2.0,\n",
       " 'f826': 2.0,\n",
       " 'f829': 1.0,\n",
       " 'f833': 10.0,\n",
       " 'f834': 10.0,\n",
       " 'f835': 12.0,\n",
       " 'f836': 5.0,\n",
       " 'f837': 4.0,\n",
       " 'f838': 6.0,\n",
       " 'f840': 3.0,\n",
       " 'f841': 5.0,\n",
       " 'f842': 3.0,\n",
       " 'f843': 2.0,\n",
       " 'f844': 5.0,\n",
       " 'f845': 1.0,\n",
       " 'f846': 1.0,\n",
       " 'f847': 2.0,\n",
       " 'f848': 3.0,\n",
       " 'f849': 2.0,\n",
       " 'f850': 5.0,\n",
       " 'f851': 2.0,\n",
       " 'f852': 2.0,\n",
       " 'f853': 1.0,\n",
       " 'f854': 1.0,\n",
       " 'f855': 3.0,\n",
       " 'f856': 3.0,\n",
       " 'f857': 2.0,\n",
       " 'f858': 2.0,\n",
       " 'f859': 1.0,\n",
       " 'f860': 3.0,\n",
       " 'f861': 1.0,\n",
       " 'f862': 3.0,\n",
       " 'f863': 3.0,\n",
       " 'f864': 1.0,\n",
       " 'f865': 1.0,\n",
       " 'f866': 1.0,\n",
       " 'f867': 2.0,\n",
       " 'f868': 3.0,\n",
       " 'f869': 2.0,\n",
       " 'f870': 1.0,\n",
       " 'f872': 5.0,\n",
       " 'f873': 1.0,\n",
       " 'f874': 2.0,\n",
       " 'f877': 2.0,\n",
       " 'f878': 3.0,\n",
       " 'f879': 1.0,\n",
       " 'f881': 1.0,\n",
       " 'f882': 2.0,\n",
       " 'f883': 1.0,\n",
       " 'f884': 2.0,\n",
       " 'f887': 1.0,\n",
       " 'f892': 1.0,\n",
       " 'f894': 1.0,\n",
       " 'f895': 2.0,\n",
       " 'f896': 3.0,\n",
       " 'f897': 1.0,\n",
       " 'f898': 1.0,\n",
       " 'f899': 1.0,\n",
       " 'f900': 1.0,\n",
       " 'f902': 1.0,\n",
       " 'f903': 1.0,\n",
       " 'f904': 1.0,\n",
       " 'f905': 2.0,\n",
       " 'f906': 1.0,\n",
       " 'f908': 1.0,\n",
       " 'f909': 1.0,\n",
       " 'f911': 1.0,\n",
       " 'f912': 3.0,\n",
       " 'f913': 1.0,\n",
       " 'f914': 1.0,\n",
       " 'f916': 1.0,\n",
       " 'f917': 1.0,\n",
       " 'f919': 2.0,\n",
       " 'f921': 1.0,\n",
       " 'f922': 2.0,\n",
       " 'f925': 1.0,\n",
       " 'f926': 1.0,\n",
       " 'f927': 2.0,\n",
       " 'f929': 2.0,\n",
       " 'f932': 1.0,\n",
       " 'f936': 1.0,\n",
       " 'f940': 1.0,\n",
       " 'f941': 2.0,\n",
       " 'f945': 1.0,\n",
       " 'f946': 1.0,\n",
       " 'f950': 1.0,\n",
       " 'f951': 2.0,\n",
       " 'f952': 1.0,\n",
       " 'f953': 1.0,\n",
       " 'f954': 1.0,\n",
       " 'f955': 2.0,\n",
       " 'f956': 1.0,\n",
       " 'f958': 1.0,\n",
       " 'f962': 2.0,\n",
       " 'f963': 1.0,\n",
       " 'f964': 1.0,\n",
       " 'f967': 1.0,\n",
       " 'f969': 1.0,\n",
       " 'f970': 2.0,\n",
       " 'f971': 1.0,\n",
       " 'f972': 1.0,\n",
       " 'f977': 1.0,\n",
       " 'f982': 1.0,\n",
       " 'f986': 1.0,\n",
       " 'f988': 1.0,\n",
       " 'f989': 1.0,\n",
       " 'f991': 2.0,\n",
       " 'f993': 1.0,\n",
       " 'f994': 1.0,\n",
       " 'f995': 1.0,\n",
       " 'f1001': 1.0,\n",
       " 'f1006': 1.0,\n",
       " 'f1010': 2.0,\n",
       " 'f1015': 1.0,\n",
       " 'f1016': 1.0,\n",
       " 'f1022': 2.0,\n",
       " 'f1024': 3.0,\n",
       " 'f1025': 2.0,\n",
       " 'f1026': 1.0,\n",
       " 'f1027': 1.0,\n",
       " 'f1037': 1.0,\n",
       " 'f1057': 2.0,\n",
       " 'f1068': 1.0,\n",
       " 'f1077': 1.0,\n",
       " 'f1078': 1.0,\n",
       " 'f1079': 1.0,\n",
       " 'f1084': 2.0,\n",
       " 'f1090': 1.0,\n",
       " 'f1091': 1.0,\n",
       " 'f1093': 1.0,\n",
       " 'f1098': 3.0,\n",
       " 'f1100': 1.0,\n",
       " 'f1106': 1.0,\n",
       " 'f1145': 1.0,\n",
       " 'f1148': 1.0,\n",
       " 'f1151': 1.0,\n",
       " 'f1153': 2.0,\n",
       " 'f1202': 8.0,\n",
       " 'f1203': 15.0,\n",
       " 'f1205': 8.0,\n",
       " 'f1206': 4.0,\n",
       " 'f1207': 2.0,\n",
       " 'f1208': 2.0,\n",
       " 'f1209': 8.0,\n",
       " 'f1210': 1.0,\n",
       " 'f1211': 2.0,\n",
       " 'f1212': 1.0,\n",
       " 'f1214': 2.0,\n",
       " 'f1215': 1.0,\n",
       " 'f1217': 1.0,\n",
       " 'f1218': 2.0,\n",
       " 'f1222': 2.0,\n",
       " 'f1224': 3.0,\n",
       " 'f1228': 1.0,\n",
       " 'f1229': 2.0,\n",
       " 'f1230': 1.0,\n",
       " 'f1235': 1.0,\n",
       " 'f1241': 1.0,\n",
       " 'f1256': 1.0,\n",
       " 'f1263': 1.0,\n",
       " 'f1268': 1.0,\n",
       " 'f1286': 1.0,\n",
       " 'f1298': 1.0,\n",
       " 'f1301': 1.0,\n",
       " 'f1330': 1.0,\n",
       " 'f1343': 1.0,\n",
       " 'f1346': 1.0,\n",
       " 'f1356': 1.0,\n",
       " 'f1366': 1.0,\n",
       " 'f1379': 1.0,\n",
       " 'f1435': 1.0,\n",
       " 'f1436': 2.0,\n",
       " 'f1443': 1.0,\n",
       " 'f1451': 1.0,\n",
       " 'f1474': 1.0,\n",
       " 'f1543': 6.0,\n",
       " 'f1544': 7.0,\n",
       " 'f1545': 6.0,\n",
       " 'f1546': 3.0,\n",
       " 'f1547': 3.0,\n",
       " 'f1548': 5.0,\n",
       " 'f1549': 4.0,\n",
       " 'f1550': 2.0,\n",
       " 'f1551': 2.0,\n",
       " 'f1552': 3.0,\n",
       " 'f1553': 2.0,\n",
       " 'f1554': 3.0,\n",
       " 'f1555': 2.0,\n",
       " 'f1556': 1.0,\n",
       " 'f1557': 5.0,\n",
       " 'f1558': 4.0,\n",
       " 'f1559': 6.0,\n",
       " 'f1562': 3.0,\n",
       " 'f1563': 2.0,\n",
       " 'f1564': 1.0,\n",
       " 'f1565': 2.0,\n",
       " 'f1566': 2.0,\n",
       " 'f1568': 1.0,\n",
       " 'f1569': 3.0,\n",
       " 'f1572': 3.0,\n",
       " 'f1574': 1.0,\n",
       " 'f1575': 4.0,\n",
       " 'f1576': 1.0,\n",
       " 'f1579': 1.0,\n",
       " 'f1580': 1.0,\n",
       " 'f1581': 1.0,\n",
       " 'f1582': 1.0,\n",
       " 'f1585': 1.0,\n",
       " 'f1588': 1.0,\n",
       " 'f1594': 1.0,\n",
       " 'f1596': 14.0,\n",
       " 'f1597': 299.0,\n",
       " 'f1598': 354.0,\n",
       " 'f1599': 350.0}"
      ]
     },
     "execution_count": 68,
     "metadata": {},
     "output_type": "execute_result"
    }
   ],
   "source": [
    "feature_importances = fitted_classifier.get_booster().get_fscore()\n",
    "feature_importances"
   ]
  },
  {
   "cell_type": "markdown",
   "metadata": {
    "application/vnd.databricks.v1+cell": {
     "cellMetadata": {},
     "inputWidgets": {},
     "nuid": "ba419798-064e-4743-8d45-c3c8d6c88ad6",
     "showTitle": false,
     "title": ""
    }
   },
   "source": [
    "## metrics evaluation"
   ]
  },
  {
   "cell_type": "code",
   "execution_count": 0,
   "metadata": {
    "application/vnd.databricks.v1+cell": {
     "cellMetadata": {
      "byteLimit": 2048000,
      "rowLimit": 10000
     },
     "inputWidgets": {},
     "nuid": "71e3be64-04ad-488d-8544-9ac2e26a5173",
     "showTitle": false,
     "title": ""
    }
   },
   "outputs": [
    {
     "output_type": "stream",
     "name": "stdout",
     "output_type": "stream",
     "text": [
      "+---------+-----+------------------+\n|DEP_DEL15|count|        percentage|\n+---------+-----+------------------+\n|        0|77984|49.719156641100675|\n|        1|78865| 50.28084335889932|\n+---------+-----+------------------+\n\n"
     ]
    }
   ],
   "source": [
    "total_train = small_data.count()\n",
    "label_distribution_train = small_data.groupBy('DEP_DEL15').count()\n",
    "label_distribution_train = label_distribution_train.withColumn('percentage', (col('count') / lit(total_train) * 100))\n",
    "label_distribution_train.show()\n"
   ]
  },
  {
   "cell_type": "code",
   "execution_count": 0,
   "metadata": {
    "application/vnd.databricks.v1+cell": {
     "cellMetadata": {
      "byteLimit": 2048000,
      "rowLimit": 10000
     },
     "inputWidgets": {},
     "nuid": "af27064b-77e9-4ac7-8c92-9f2cdb2b9dd4",
     "showTitle": false,
     "title": ""
    }
   },
   "outputs": [
    {
     "output_type": "stream",
     "name": "stdout",
     "output_type": "stream",
     "text": [
      "+---------+-------+------------------+\n|DEP_DEL15|  count|        percentage|\n+---------+-------+------------------+\n|        1|1353702|18.648203544351922|\n|        0|5905453| 81.35179645564807|\n+---------+-------+------------------+\n\n"
     ]
    }
   ],
   "source": [
    "total_test = test_data.count()\n",
    "label_distribution_test = test_data.groupBy('DEP_DEL15').count()\n",
    "label_distribution_test = label_distribution_test.withColumn('percentage', (col('count') / lit(total_test) * 100))\n",
    "label_distribution_test.show()"
   ]
  },
  {
   "cell_type": "code",
   "execution_count": 0,
   "metadata": {
    "application/vnd.databricks.v1+cell": {
     "cellMetadata": {
      "byteLimit": 2048000,
      "rowLimit": 10000
     },
     "inputWidgets": {},
     "nuid": "dc7f7330-879d-41d7-8f29-9d31bf481631",
     "showTitle": false,
     "title": ""
    }
   },
   "outputs": [
    {
     "output_type": "stream",
     "name": "stdout",
     "output_type": "stream",
     "text": [
      "+----------+-------+------------------+\n|prediction|  count|        percentage|\n+----------+-------+------------------+\n|       0.0|3902818|60.107733852782005|\n|       1.0|2590220|39.892266147217995|\n+----------+-------+------------------+\n\n"
     ]
    }
   ],
   "source": [
    "from pyspark.mllib.evaluation import MulticlassMetrics\n",
    "\n",
    "train_predictions = fitted_classifier.transform(train_data_assembled)\n",
    "test_predictions = fitted_classifier.transform(test_data_assembled)\n",
    "\n",
    "#calculate percentage of predicted delays vs. no delays\n",
    "total_predictions = test_predictions.count()\n",
    "predictions_group = test_predictions.groupBy('prediction').count()\n",
    "percentage_predictions = predictions_group.withColumn('percentage', col('count') / total_predictions * 100)\n",
    "percentage_predictions.show()\n",
    "\n"
   ]
  },
  {
   "cell_type": "code",
   "execution_count": 0,
   "metadata": {
    "application/vnd.databricks.v1+cell": {
     "cellMetadata": {
      "byteLimit": 2048000,
      "rowLimit": 10000
     },
     "inputWidgets": {},
     "nuid": "eb69db75-15cd-4120-9e42-d628e5a1abb8",
     "showTitle": false,
     "title": ""
    }
   },
   "outputs": [],
   "source": [
    "def evaluate_model(train_data_assembled, test_data_assembled, model):\n",
    "   \n",
    "    def get_metrics(dataset):\n",
    "        # Make predictions\n",
    "        predictions = model.transform(dataset)\n",
    "\n",
    "        # Select the prediction and label columns and convert to RDD\n",
    "        predictionAndLabels = predictions.select(\n",
    "            col('prediction').cast('float'),\n",
    "            col('DEP_DEL15').cast('float')\n",
    "        ).rdd\n",
    "\n",
    "        # Compute metrics using MulticlassMetrics\n",
    "        metrics = MulticlassMetrics(predictionAndLabels)\n",
    "        confusion_matrix = metrics.confusionMatrix().toArray()\n",
    "\n",
    "        # Calculate metrics\n",
    "        TN = confusion_matrix[0,0]\n",
    "        FP = confusion_matrix[0,1]\n",
    "        FN = confusion_matrix[1,0]\n",
    "        TP = confusion_matrix[1,1]\n",
    "\n",
    "        recall = TP / (TP + FN) if (TP + FN) > 0 else 0\n",
    "        precision = TP / (TP + FP) if (TP + FP) > 0 else 0\n",
    "        f1 = 2 * precision * recall / (precision + recall) if (precision + recall) > 0 else 0\n",
    "        beta = 2\n",
    "        f2 = ((1 + beta**2) * precision * recall) / ((beta**2 * precision) + recall) if ((beta**2 * precision) + recall) > 0 else 0\n",
    "\n",
    "        return {\n",
    "            'TN': TN, 'FP': FP, 'FN': FN, 'TP': TP,\n",
    "            'Recall': recall, 'Precision': precision, 'F1 Score': f1, 'F2 Score': f2\n",
    "        }\n",
    "\n",
    "    # Evaluate on both training and test data\n",
    "    train_metrics = get_metrics(train_data_assembled)\n",
    "    test_metrics = get_metrics(test_data_assembled)\n",
    "\n",
    "    return {\n",
    "        'Training': train_metrics,\n",
    "        'Testing': test_metrics\n",
    "    }\n",
    "\n",
    "\n"
   ]
  },
  {
   "cell_type": "code",
   "execution_count": 0,
   "metadata": {
    "application/vnd.databricks.v1+cell": {
     "cellMetadata": {
      "byteLimit": 2048000,
      "rowLimit": 10000
     },
     "inputWidgets": {},
     "nuid": "b97e7206-7791-4241-9738-eea7dab8582f",
     "showTitle": false,
     "title": ""
    }
   },
   "outputs": [
    {
     "output_type": "stream",
     "name": "stderr",
     "output_type": "stream",
     "text": [
      "/databricks/spark/python/pyspark/sql/context.py:165: FutureWarning: Deprecated in 3.0.0. Use SparkSession.builder.getOrCreate() instead.\n  warnings.warn(\n"
     ]
    },
    {
     "output_type": "stream",
     "name": "stdout",
     "output_type": "stream",
     "text": [
      "{'Training': {'TN': 2675115.0, 'FP': 1221617.0, 'FN': 1488407.0, 'TP': 2474724.0, 'Recall': 0.6244365881420524, 'Precision': 0.6695064118813714, 'F1 Score': 0.6461865778737752, 'F2 Score': 0.6329584863366747}, 'Testing': {'TN': 3455216.0, 'FP': 1812131.0, 'FN': 447602.0, 'TP': 778089.0, 'Recall': 0.6348166054902907, 'Precision': 0.30039494714734655, 'F1 Score': 0.40781297048070564, 'F2 Score': 0.5192117052431982}}\n"
     ]
    }
   ],
   "source": [
    "results = evaluate_model(train_data_assembled, test_data_assembled, fitted_classifier)\n",
    "print(results)"
   ]
  },
  {
   "cell_type": "code",
   "execution_count": 0,
   "metadata": {
    "application/vnd.databricks.v1+cell": {
     "cellMetadata": {
      "byteLimit": 2048000,
      "rowLimit": 10000
     },
     "inputWidgets": {},
     "nuid": "cd86b056-1880-4da1-9fe6-942bb0a70ab6",
     "showTitle": false,
     "title": ""
    }
   },
   "outputs": [],
   "source": [
    "xgboost_predictions = fitted_classifier.transform(test_data_assembled)\n",
    "\n",
    "xgboost_predictions_path = f\"{team_blob_url}/data_OPTW_60MON_XGBOOST_V1_predictions\"\n",
    "xgboost_predictions.write.format(\"parquet\").mode(\"overwrite\").save(xgboost_predictions_path)"
   ]
  },
  {
   "cell_type": "code",
   "execution_count": 0,
   "metadata": {
    "application/vnd.databricks.v1+cell": {
     "cellMetadata": {
      "byteLimit": 2048000,
      "rowLimit": 10000
     },
     "inputWidgets": {},
     "nuid": "4bfe067e-49f9-4238-837d-ba39c69f0a29",
     "showTitle": false,
     "title": ""
    }
   },
   "outputs": [],
   "source": [
    "\n",
    "# predictionAndLabels = test_predictions.select(\n",
    "#     col('prediction').cast('float'),\n",
    "#     col('DEP_DEL15').cast('float')\n",
    "# ).rdd\n",
    "\n",
    "# metrics = MulticlassMetrics(predictionAndLabels)\n",
    "# confusion_matrix = metrics.confusionMatrix().toArray()\n",
    "\n",
    "# print(\"Confusion Matrix:\\n\", confusion_matrix)\n",
    "\n",
    "# print(\"details:\")\n",
    "# print(\"          Predicted: No    Predicted: Yes\")\n",
    "# print(f\"Actual: No  TN = {confusion_matrix[0,0]:7.0f}    FP = {confusion_matrix[0,1]:7.0f}\")\n",
    "# print(f\"Actual: Yes FN = {confusion_matrix[1,0]:7.0f}    TP = {confusion_matrix[1,1]:7.0f}\")\n"
   ]
  },
  {
   "cell_type": "code",
   "execution_count": 0,
   "metadata": {
    "application/vnd.databricks.v1+cell": {
     "cellMetadata": {
      "byteLimit": 2048000,
      "rowLimit": 10000
     },
     "inputWidgets": {},
     "nuid": "85209704-426b-4f84-b82d-4a7a0b5bc443",
     "showTitle": false,
     "title": ""
    }
   },
   "outputs": [],
   "source": [
    "# #calculating recall and precision manually\n",
    "# TP = confusion_matrix[1, 1]\n",
    "# FN = confusion_matrix[1, 0]\n",
    "# FP = confusion_matrix[0, 1]\n",
    "# recall_for_class_1 = TP / (TP + FN) if (TP + FN) > 0 else 0\n",
    "# precision_for_class_1 = TP / (TP + FP) if (TP + FP) > 0 else 0\n",
    "# beta = 2\n",
    "# f_beta_for_class_1 = ((1 + beta**2) * precision_for_class_1 * recall_for_class_1) / ((beta**2 * precision_for_class_1) + recall_for_class_1) if ((beta**2 * precision_for_class_1) + recall_for_class_1) > 0 else 0\n",
    "\n",
    "# print(\"Recall for class 1 (Delays):\", recall_for_class_1)\n",
    "# print(\"Precision for class 1 (Delays):\", precision_for_class_1)\n",
    "# print(\"F2 Score for class 1 (Delays):\", f_beta_for_class_1)"
   ]
  },
  {
   "cell_type": "markdown",
   "metadata": {
    "application/vnd.databricks.v1+cell": {
     "cellMetadata": {
      "byteLimit": 2048000,
      "rowLimit": 10000
     },
     "inputWidgets": {},
     "nuid": "ff225874-8617-4b32-870a-22223e415ce4",
     "showTitle": false,
     "title": ""
    }
   },
   "source": [
    "## grid search\n"
   ]
  },
  {
   "cell_type": "code",
   "execution_count": 0,
   "metadata": {
    "application/vnd.databricks.v1+cell": {
     "cellMetadata": {
      "byteLimit": 2048000,
      "rowLimit": 10000
     },
     "inputWidgets": {},
     "nuid": "1fb8a40e-f550-46e6-848f-528a35343c9b",
     "showTitle": false,
     "title": ""
    }
   },
   "outputs": [],
   "source": [
    "from pyspark.ml.tuning import CrossValidator, ParamGridBuilder\n",
    "from pyspark.ml.evaluation import MulticlassClassificationEvaluator\n"
   ]
  },
  {
   "cell_type": "code",
   "execution_count": 0,
   "metadata": {
    "application/vnd.databricks.v1+cell": {
     "cellMetadata": {
      "byteLimit": 2048000,
      "rowLimit": 10000
     },
     "inputWidgets": {},
     "nuid": "7dd3ad25-37cf-4a33-a929-c49d9f0d7cc6",
     "showTitle": false,
     "title": ""
    }
   },
   "outputs": [],
   "source": [
    "# paramGrid = ParamGridBuilder() \\\n",
    "#     .addGrid(classifier.max_depth, [3, 6, 9]) \\\n",
    "#     .addGrid(classifier.subsample, [0.6, 0.8, 1.0]) \\\n",
    "#     .addGrid(classifier.reg_lambda, [1, 10, 100]) \\\n",
    "#     .addGrid(classifier.reg_alpha, [0, 0.5, 1]) \\\n",
    "#     .build()\n",
    "\n",
    "\n",
    "# evaluator = MulticlassClassificationEvaluator(labelCol='DEP_DEL15', predictionCol=\"prediction\", metricName=\"recallByLabel\", metricLabel=1)"
   ]
  },
  {
   "cell_type": "code",
   "execution_count": 0,
   "metadata": {
    "application/vnd.databricks.v1+cell": {
     "cellMetadata": {
      "byteLimit": 2048000,
      "rowLimit": 10000
     },
     "inputWidgets": {},
     "nuid": "4c302bdf-7c2b-4f0c-a243-56ffd542bc7c",
     "showTitle": false,
     "title": ""
    }
   },
   "outputs": [],
   "source": [
    "# crossval = CrossValidator(estimator=classifier,\n",
    "#                           estimatorParamMaps=paramGrid,\n",
    "#                           evaluator=evaluator,\n",
    "#                           numFolds=5)  \n",
    "# cvModel = crossval.fit(train_data_assembled)\n"
   ]
  },
  {
   "cell_type": "code",
   "execution_count": 0,
   "metadata": {
    "application/vnd.databricks.v1+cell": {
     "cellMetadata": {
      "byteLimit": 2048000,
      "rowLimit": 10000
     },
     "inputWidgets": {},
     "nuid": "883d4396-c238-4c13-824a-d039ae4e1f9a",
     "showTitle": false,
     "title": ""
    }
   },
   "outputs": [],
   "source": [
    "# bestModel = cvModel.bestModel\n",
    "\n",
    "# # Evaluate the best model on the training and testing data\n",
    "# results_train = evaluate_model(train_data_assembled, bestModel)\n",
    "# results_test = evaluate_model(test_data_assembled, bestModel)\n",
    "\n",
    "# # Print results\n",
    "# print(\"Evaluation Metrics for Training Data:\")\n",
    "# print(results_train)\n",
    "# print(\"\\nEvaluation Metrics for Testing Data:\")\n",
    "# print(results_test)"
   ]
  },
  {
   "cell_type": "code",
   "execution_count": 0,
   "metadata": {
    "application/vnd.databricks.v1+cell": {
     "cellMetadata": {},
     "inputWidgets": {},
     "nuid": "4ab9b245-9d98-4125-b6a7-27091176f076",
     "showTitle": false,
     "title": ""
    }
   },
   "outputs": [],
   "source": []
  }
 ],
 "metadata": {
  "application/vnd.databricks.v1+notebook": {
   "dashboards": [],
   "language": "python",
   "notebookMetadata": {
    "pythonIndentUnit": 4
   },
   "notebookName": "XGBoost_4_18",
   "widgets": {}
  }
 },
 "nbformat": 4,
 "nbformat_minor": 0
}
