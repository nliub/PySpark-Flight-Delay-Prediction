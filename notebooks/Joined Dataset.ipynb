{
 "cells": [
  {
   "cell_type": "code",
   "execution_count": 0,
   "metadata": {
    "application/vnd.databricks.v1+cell": {
     "cellMetadata": {},
     "inputWidgets": {},
     "nuid": "c7064d5f-c86c-4395-bc4a-530f77581618",
     "showTitle": false,
     "title": ""
    }
   },
   "outputs": [],
   "source": [
    "import matplotlib.pyplot as plt\n",
    "import pandas as pd\n",
    "import numpy as np\n",
    "import seaborn as sn\n",
    "from pyspark.sql.functions import isnull, when, count\n",
    "from pyspark.sql.functions import *\n",
    "from pyspark.sql import SQLContext\n",
    "from pyspark.sql import functions as f\n",
    "from pyspark.sql.types import *\n",
    "from pyspark.sql.window import Window\n",
    "\n",
    "from pyspark.sql import Window\n",
    "from pyspark.sql.functions import rank, col, monotonically_increasing_id\n",
    "import pyspark\n",
    "import time\n",
    "from pyspark.ml.feature import Imputer"
   ]
  },
  {
   "cell_type": "code",
   "execution_count": 0,
   "metadata": {
    "application/vnd.databricks.v1+cell": {
     "cellMetadata": {},
     "inputWidgets": {},
     "nuid": "d31eec60-77d1-412d-9709-a58bf96e45dd",
     "showTitle": false,
     "title": ""
    }
   },
   "outputs": [],
   "source": [
    "blob_container  = \"team3-4\"       # The name of your container created in https://portal.azure.com\n",
    "storage_account = \"daphnelin\"  # The name of your Storage account created in https://portal.azure.com\n",
    "secret_scope    = \"team_3-4\"           # The name of the scope created in your local computer using the Databricks CLI\n",
    "secret_key      = \"key_3_4\"             # The name of the secret key created in your local computer using the Databricks CLI\n",
    "team_blob_url   = f\"wasbs://{blob_container}@{storage_account}.blob.core.windows.net\"  #points to the root of your team storage bucket\n",
    "\n",
    "# the 261 course blob storage is mounted here.\n",
    "mids261_mount_path      = \"/mnt/mids-w261\"\n",
    "\n",
    "# SAS Token: Grant the team limited access to Azure Storage resources\n",
    "spark.conf.set(\n",
    "  f\"fs.azure.sas.{blob_container}.{storage_account}.blob.core.windows.net\",\n",
    "  dbutils.secrets.get(scope = secret_scope, key = secret_key)\n",
    ")\n",
    "\n",
    "# # see what's in the blob storage root folder \n",
    "display(dbutils.fs.ls(f\"{team_blob_url}\"))"
   ]
  },
  {
   "cell_type": "code",
   "execution_count": 0,
   "metadata": {
    "application/vnd.databricks.v1+cell": {
     "cellMetadata": {},
     "inputWidgets": {},
     "nuid": "e543401b-72c8-4822-8510-d3a8ddd8ac9d",
     "showTitle": false,
     "title": ""
    }
   },
   "outputs": [
    {
     "output_type": "stream",
     "name": "stdout",
     "output_type": "stream",
     "text": [
      "Stations count = 2261\n"
     ]
    }
   ],
   "source": [
    "# Load station table\n",
    "df_stations = spark.read.parquet(\"dbfs:/mnt/mids-w261/datasets_final_project_2022/stations_data/*\")\n",
    "\n",
    "# Zero distance to neighbor means the station is the same as its neighbor.\n",
    "df_stations = df_stations.filter(col(\"distance_to_neighbor\") == 0)\n",
    "print(f\"Stations count = {df_stations.count()}\")\n",
    "df_stations.createOrReplaceTempView(\"stations\")\n"
   ]
  },
  {
   "cell_type": "code",
   "execution_count": 0,
   "metadata": {
    "application/vnd.databricks.v1+cell": {
     "cellMetadata": {},
     "inputWidgets": {},
     "nuid": "84891604-6a23-4a3b-a6fd-eefadedc6084",
     "showTitle": false,
     "title": ""
    }
   },
   "outputs": [
    {
     "output_type": "stream",
     "name": "stderr",
     "output_type": "stream",
     "text": [
      "/root/.ipykernel/1489/command-2340268507067779-947982231:2: DtypeWarning: Columns (0,4,5,6) have mixed types. Specify dtype option on import or set low_memory=False.\n  adf = pd.read_csv('https://raw.githubusercontent.com/davidmegginson/ourairports-data/main/airports.csv', header=None)\n/databricks/spark/python/pyspark/sql/pandas/conversion.py:412: UserWarning: createDataFrame attempted Arrow optimization because 'spark.sql.execution.arrow.pyspark.enabled' is set to true; however, failed by the reason below:\n  Expected bytes, got a 'int' object\nAttempting non-optimization as 'spark.sql.execution.arrow.pyspark.fallback.enabled' is set to true.\n  warn(msg)\n"
     ]
    }
   ],
   "source": [
    "# Load external data to map weather station to IATA codes\n",
    "adf = pd.read_csv('https://raw.githubusercontent.com/davidmegginson/ourairports-data/main/airports.csv', header=None)\n",
    "\n",
    "col_names = {\n",
    "0: 'ID', 1: 'ident', 2: 'Type', 3: 'Name', 4: 'Latitude', 5: 'Longitude', 6: 'Elevation', \n",
    "7: 'Continent', 8: 'Country', 9: 'Region', 10: 'County', 11: 'scheduled_service', 12: 'ICAO', 13: 'IATA',\n",
    "14: 'local_code', 15: 'home_link', 16: 'wiki_link', 17: 'keywords'\n",
    "}\n",
    "adf.rename(columns=col_names, inplace=True)\n",
    "df_airport = spark.createDataFrame(adf)\n",
    "df_airport.createOrReplaceTempView(\"airports\")"
   ]
  },
  {
   "cell_type": "code",
   "execution_count": 0,
   "metadata": {
    "application/vnd.databricks.v1+cell": {
     "cellMetadata": {},
     "inputWidgets": {},
     "nuid": "1889048d-f565-44de-b13e-ce5eeb4f8ccd",
     "showTitle": false,
     "title": ""
    }
   },
   "outputs": [
    {
     "output_type": "stream",
     "name": "stdout",
     "output_type": "stream",
     "text": [
      "Stations joined count = 2261\n"
     ]
    }
   ],
   "source": [
    "# Join station data with external IATA data\n",
    "query_station_airport = \"\"\"\n",
    "SELECT * \n",
    "FROM \n",
    "(SELECT * FROM stations) AS s \n",
    "LEFT JOIN \n",
    "(SELECT ICAO, IATA, Country, Elevation FROM airports) AS a\n",
    "ON s.neighbor_call = a.ICAO\n",
    "\"\"\"\n",
    "stations_with_iata = spark.sql(query_station_airport)\n",
    "print(f\"Stations joined count = {stations_with_iata.count()}\")"
   ]
  },
  {
   "cell_type": "code",
   "execution_count": 0,
   "metadata": {
    "application/vnd.databricks.v1+cell": {
     "cellMetadata": {},
     "inputWidgets": {},
     "nuid": "8f259992-19c9-4ea2-a34a-5fbe8ffe7568",
     "showTitle": false,
     "title": ""
    }
   },
   "outputs": [],
   "source": [
    "# Write final stations dataset to parquet\n",
    "stations_with_iata.write.mode(\"overwrite\").parquet(f\"{team_blob_url}/stations_with_iata\")"
   ]
  },
  {
   "cell_type": "code",
   "execution_count": 0,
   "metadata": {
    "application/vnd.databricks.v1+cell": {
     "cellMetadata": {},
     "inputWidgets": {},
     "nuid": "6c9f28ed-a0d8-46ee-9daa-b3309ad1a6d7",
     "showTitle": false,
     "title": ""
    }
   },
   "outputs": [],
   "source": [
    "# Load flight data and get unique airports\n",
    "df_airlines = spark.read.parquet(\"dbfs:/mnt/mids-w261/datasets_final_project_2022/parquet_airlines_data/*\")\n",
    "origin_airports = df_airlines.select(\"ORIGIN\").distinct().collect()\n",
    "dest_airports = df_airlines.select(\"DEST\").distinct().collect()\n",
    "all_airports = set([o[\"ORIGIN\"] for o in origin_airports] + [d[\"DEST\"] for d in dest_airports])\n",
    "unique_airports = spark.createDataFrame([[a] for a in sorted(all_airports)], [\"AIRPORT\"])\n",
    "unique_airports.write.mode(\"overwrite\").parquet(f\"{team_blob_url}/unique_airports\")"
   ]
  },
  {
   "cell_type": "code",
   "execution_count": 0,
   "metadata": {
    "application/vnd.databricks.v1+cell": {
     "cellMetadata": {},
     "inputWidgets": {},
     "nuid": "77c9651c-c23b-4f6d-bf0c-c26105ed4e2c",
     "showTitle": false,
     "title": ""
    }
   },
   "outputs": [],
   "source": [
    "# Filter stations to only the airports from the full flights dataset\n",
    "airports = {r[\"AIRPORT\"] for r in unique_airports.select(\"AIRPORT\").distinct().collect()}\n",
    "print(f\"Airports count in flights dataset = {len(airports)}\")\n",
    "stations_with_iata = stations_with_iata.filter(stations_with_iata.IATA.isin(airports))\n",
    "print(f\"Airports found in joined stations = {stations_with_iata.count()}\")\n",
    "airports_in_joined = {r[\"IATA\"] for r in stations_with_iata.select(\"IATA\").distinct().collect()}\n",
    "airports_not_found = airports - airports_in_joined\n",
    "print(f\"Airports not found: {', '.join(sorted(airports_not_found))}\")\n",
    "display(stations_with_iata)\n"
   ]
  },
  {
   "cell_type": "code",
   "execution_count": 0,
   "metadata": {
    "application/vnd.databricks.v1+cell": {
     "cellMetadata": {},
     "inputWidgets": {},
     "nuid": "8780172d-2575-4fe3-a53e-8cf0216f5912",
     "showTitle": false,
     "title": ""
    }
   },
   "outputs": [
    {
     "output_type": "stream",
     "name": "stdout",
     "output_type": "stream",
     "text": [
      "missing airports\n"
     ]
    },
    {
     "output_type": "stream",
     "name": "stderr",
     "output_type": "stream",
     "text": [
      "/databricks/spark/python/pyspark/sql/pandas/conversion.py:412: UserWarning: createDataFrame attempted Arrow optimization because 'spark.sql.execution.arrow.pyspark.enabled' is set to true; however, failed by the reason below:\n  Expected bytes, got a 'int' object\nAttempting non-optimization as 'spark.sql.execution.arrow.pyspark.fallback.enabled' is set to true.\n  warn(msg)\n"
     ]
    },
    {
     "output_type": "display_data",
     "data": {
      "text/html": [
       "<style scoped>\n",
       "  .table-result-container {\n",
       "    max-height: 300px;\n",
       "    overflow: auto;\n",
       "  }\n",
       "  table, th, td {\n",
       "    border: 1px solid black;\n",
       "    border-collapse: collapse;\n",
       "  }\n",
       "  th, td {\n",
       "    padding: 5px;\n",
       "  }\n",
       "  th {\n",
       "    text-align: left;\n",
       "  }\n",
       "</style><div class='table-result-container'><table class='table-result'><thead style='background-color: white'><tr><th>ID</th><th>ident</th><th>Type</th><th>Name</th><th>Latitude</th><th>Longitude</th><th>Elevation</th><th>Continent</th><th>Country</th><th>Region</th><th>County</th><th>scheduled_service</th><th>ICAO</th><th>IATA</th><th>local_code</th><th>home_link</th><th>wiki_link</th><th>keywords</th></tr></thead><tbody><tr><td>12114</td><td>57A</td><td>seaplane_base</td><td>Tokeen Seaplane Base</td><td>55.9370994568</td><td>-133.32699585</td><td>null</td><td>null</td><td>US</td><td>US-AK</td><td>Tokeen</td><td>no</td><td>57A</td><td>TKI</td><td>57A</td><td>null</td><td>https://en.wikipedia.org/wiki/Tokeen_Seaplane_Base</td><td>null</td></tr><tr><td>20727</td><td>KOGS</td><td>medium_airport</td><td>Ogdensburg International Airport</td><td>44.6819</td><td>-75.4655</td><td>297</td><td>null</td><td>US</td><td>US-NY</td><td>Ogdensburg</td><td>yes</td><td>KOGS</td><td>OGS</td><td>OGS</td><td>https://ogsair.com/</td><td>https://en.wikipedia.org/wiki/Ogdensburg_International_Airport</td><td>null</td></tr><tr><td>4978</td><td>NSTU</td><td>medium_airport</td><td>Pago Pago International Airport</td><td>-14.331</td><td>-170.710007</td><td>32</td><td>OC</td><td>AS</td><td>AS-WT</td><td>Pago Pago</td><td>yes</td><td>NSTU</td><td>PPG</td><td>PPG</td><td>null</td><td>https://en.wikipedia.org/wiki/Pago_Pago_International_Airport</td><td>null</td></tr><tr><td>5431</td><td>PGSN</td><td>medium_airport</td><td>Saipan International Airport</td><td>15.119</td><td>145.729004</td><td>215</td><td>OC</td><td>MP</td><td>MP-U-A</td><td>I Fadang, Saipan</td><td>yes</td><td>PGSN</td><td>SPN</td><td>GSN</td><td>null</td><td>https://en.wikipedia.org/wiki/Saipan_International_Airport</td><td>Francisco C. Ada</td></tr><tr><td>5433</td><td>PGUM</td><td>large_airport</td><td>Antonio B. Won Pat International Airport</td><td>13.4834</td><td>144.796005</td><td>298</td><td>OC</td><td>GU</td><td>GU-U-A</td><td>Hagåtña</td><td>yes</td><td>PGUM</td><td>GUM</td><td>GUM</td><td>http://www.guamairport.com/</td><td>https://en.wikipedia.org/wiki/Antonio_B._Won_Pat_International_Airport</td><td>Agana</td></tr><tr><td>6383</td><td>TJPS</td><td>medium_airport</td><td>Mercedita Airport</td><td>18.00830078125</td><td>-66.56300354003906</td><td>29</td><td>null</td><td>PR</td><td>PR-U-A</td><td>Ponce</td><td>yes</td><td>TJPS</td><td>PSE</td><td>PSE</td><td>null</td><td>https://en.wikipedia.org/wiki/Mercedita_Airport</td><td>null</td></tr><tr><td>6384</td><td>TJSJ</td><td>large_airport</td><td>Luis Munoz Marin International Airport</td><td>18.4393997192</td><td>-66.0018005371</td><td>9</td><td>null</td><td>PR</td><td>PR-U-A</td><td>San Juan</td><td>yes</td><td>TJSJ</td><td>SJU</td><td>SJU</td><td>null</td><td>https://en.wikipedia.org/wiki/Luis_Mu%C3%B1oz_Mar%C3%ADn_International_Airport</td><td>Isla Verde</td></tr><tr><td>324440</td><td>US-0571</td><td>medium_airport</td><td>Williston Basin International Airport</td><td>48.258387</td><td>-103.748797</td><td>2344</td><td>null</td><td>US</td><td>US-ND</td><td>Williston</td><td>yes</td><td>KXWA</td><td>XWA</td><td>XWA</td><td>http://www.xwaproject.com/</td><td>https://en.wikipedia.org/wiki/Williston_Basin_International_Airport</td><td>null</td></tr></tbody></table></div>"
      ]
     },
     "metadata": {
      "application/vnd.databricks.v1+output": {
       "addedWidgets": {},
       "aggData": [],
       "aggError": "",
       "aggOverflow": false,
       "aggSchema": [],
       "aggSeriesLimitReached": false,
       "aggType": "",
       "arguments": {},
       "columnCustomDisplayInfos": {},
       "data": [
        [
         "12114",
         "57A",
         "seaplane_base",
         "Tokeen Seaplane Base",
         "55.9370994568",
         "-133.32699585",
         null,
         null,
         "US",
         "US-AK",
         "Tokeen",
         "no",
         "57A",
         "TKI",
         "57A",
         null,
         "https://en.wikipedia.org/wiki/Tokeen_Seaplane_Base",
         null
        ],
        [
         "20727",
         "KOGS",
         "medium_airport",
         "Ogdensburg International Airport",
         "44.6819",
         "-75.4655",
         297,
         null,
         "US",
         "US-NY",
         "Ogdensburg",
         "yes",
         "KOGS",
         "OGS",
         "OGS",
         "https://ogsair.com/",
         "https://en.wikipedia.org/wiki/Ogdensburg_International_Airport",
         null
        ],
        [
         "4978",
         "NSTU",
         "medium_airport",
         "Pago Pago International Airport",
         "-14.331",
         "-170.710007",
         32,
         "OC",
         "AS",
         "AS-WT",
         "Pago Pago",
         "yes",
         "NSTU",
         "PPG",
         "PPG",
         null,
         "https://en.wikipedia.org/wiki/Pago_Pago_International_Airport",
         null
        ],
        [
         "5431",
         "PGSN",
         "medium_airport",
         "Saipan International Airport",
         "15.119",
         "145.729004",
         215,
         "OC",
         "MP",
         "MP-U-A",
         "I Fadang, Saipan",
         "yes",
         "PGSN",
         "SPN",
         "GSN",
         null,
         "https://en.wikipedia.org/wiki/Saipan_International_Airport",
         "Francisco C. Ada"
        ],
        [
         "5433",
         "PGUM",
         "large_airport",
         "Antonio B. Won Pat International Airport",
         "13.4834",
         "144.796005",
         298,
         "OC",
         "GU",
         "GU-U-A",
         "Hagåtña",
         "yes",
         "PGUM",
         "GUM",
         "GUM",
         "http://www.guamairport.com/",
         "https://en.wikipedia.org/wiki/Antonio_B._Won_Pat_International_Airport",
         "Agana"
        ],
        [
         "6383",
         "TJPS",
         "medium_airport",
         "Mercedita Airport",
         "18.00830078125",
         "-66.56300354003906",
         29,
         null,
         "PR",
         "PR-U-A",
         "Ponce",
         "yes",
         "TJPS",
         "PSE",
         "PSE",
         null,
         "https://en.wikipedia.org/wiki/Mercedita_Airport",
         null
        ],
        [
         "6384",
         "TJSJ",
         "large_airport",
         "Luis Munoz Marin International Airport",
         "18.4393997192",
         "-66.0018005371",
         9,
         null,
         "PR",
         "PR-U-A",
         "San Juan",
         "yes",
         "TJSJ",
         "SJU",
         "SJU",
         null,
         "https://en.wikipedia.org/wiki/Luis_Mu%C3%B1oz_Mar%C3%ADn_International_Airport",
         "Isla Verde"
        ],
        [
         "324440",
         "US-0571",
         "medium_airport",
         "Williston Basin International Airport",
         "48.258387",
         "-103.748797",
         2344,
         null,
         "US",
         "US-ND",
         "Williston",
         "yes",
         "KXWA",
         "XWA",
         "XWA",
         "http://www.xwaproject.com/",
         "https://en.wikipedia.org/wiki/Williston_Basin_International_Airport",
         null
        ]
       ],
       "datasetInfos": [],
       "dbfsResultPath": null,
       "isJsonSchema": true,
       "metadata": {},
       "overflow": false,
       "plotOptions": {
        "customPlotOptions": {},
        "displayType": "table",
        "pivotAggregation": null,
        "pivotColumns": null,
        "xColumns": null,
        "yColumns": null
       },
       "removedWidgets": [],
       "schema": [
        {
         "metadata": "{}",
         "name": "ID",
         "type": "\"string\""
        },
        {
         "metadata": "{}",
         "name": "ident",
         "type": "\"string\""
        },
        {
         "metadata": "{}",
         "name": "Type",
         "type": "\"string\""
        },
        {
         "metadata": "{}",
         "name": "Name",
         "type": "\"string\""
        },
        {
         "metadata": "{}",
         "name": "Latitude",
         "type": "\"string\""
        },
        {
         "metadata": "{}",
         "name": "Longitude",
         "type": "\"string\""
        },
        {
         "metadata": "{}",
         "name": "Elevation",
         "type": "\"double\""
        },
        {
         "metadata": "{}",
         "name": "Continent",
         "type": "\"string\""
        },
        {
         "metadata": "{}",
         "name": "Country",
         "type": "\"string\""
        },
        {
         "metadata": "{}",
         "name": "Region",
         "type": "\"string\""
        },
        {
         "metadata": "{}",
         "name": "County",
         "type": "\"string\""
        },
        {
         "metadata": "{}",
         "name": "scheduled_service",
         "type": "\"string\""
        },
        {
         "metadata": "{}",
         "name": "ICAO",
         "type": "\"string\""
        },
        {
         "metadata": "{}",
         "name": "IATA",
         "type": "\"string\""
        },
        {
         "metadata": "{}",
         "name": "local_code",
         "type": "\"string\""
        },
        {
         "metadata": "{}",
         "name": "home_link",
         "type": "\"string\""
        },
        {
         "metadata": "{}",
         "name": "wiki_link",
         "type": "\"string\""
        },
        {
         "metadata": "{}",
         "name": "keywords",
         "type": "\"string\""
        }
       ],
       "type": "table"
      }
     },
     "output_type": "display_data"
    }
   ],
   "source": [
    "# Look for the missing airports in the external data\n",
    "missing_icao = set(adf.loc[(adf[\"IATA\"].isin(airports_not_found)), \"ICAO\"])\n",
    "print('missing airports')\n",
    "display(adf.loc[(adf[\"IATA\"].isin(airports_not_found))])\n"
   ]
  },
  {
   "cell_type": "code",
   "execution_count": 0,
   "metadata": {
    "application/vnd.databricks.v1+cell": {
     "cellMetadata": {},
     "inputWidgets": {},
     "nuid": "1cfc3e72-447e-41e2-8812-4bd5f6aaf894",
     "showTitle": false,
     "title": ""
    }
   },
   "outputs": [
    {
     "output_type": "stream",
     "name": "stdout",
     "output_type": "stream",
     "text": [
      "Check counts of flights from airports not found\n"
     ]
    },
    {
     "output_type": "display_data",
     "data": {
      "text/html": [
       "<style scoped>\n",
       "  .table-result-container {\n",
       "    max-height: 300px;\n",
       "    overflow: auto;\n",
       "  }\n",
       "  table, th, td {\n",
       "    border: 1px solid black;\n",
       "    border-collapse: collapse;\n",
       "  }\n",
       "  th, td {\n",
       "    padding: 5px;\n",
       "  }\n",
       "  th {\n",
       "    text-align: left;\n",
       "  }\n",
       "</style><div class='table-result-container'><table class='table-result'><thead style='background-color: white'><tr><th>ORIGIN</th><th>count</th></tr></thead><tbody><tr><td>PSE</td><td>8508</td></tr><tr><td>PPG</td><td>1228</td></tr><tr><td>OGS</td><td>2618</td></tr><tr><td>SPN</td><td>1962</td></tr><tr><td>SJU</td><td>308194</td></tr><tr><td>GUM</td><td>6361</td></tr><tr><td>XWA</td><td>2173</td></tr><tr><td>ISN</td><td>15188</td></tr><tr><td>TKI</td><td>2</td></tr></tbody></table></div>"
      ]
     },
     "metadata": {
      "application/vnd.databricks.v1+output": {
       "addedWidgets": {},
       "aggData": [],
       "aggError": "",
       "aggOverflow": false,
       "aggSchema": [],
       "aggSeriesLimitReached": false,
       "aggType": "",
       "arguments": {},
       "columnCustomDisplayInfos": {},
       "data": [
        [
         "PSE",
         8508
        ],
        [
         "PPG",
         1228
        ],
        [
         "OGS",
         2618
        ],
        [
         "SPN",
         1962
        ],
        [
         "SJU",
         308194
        ],
        [
         "GUM",
         6361
        ],
        [
         "XWA",
         2173
        ],
        [
         "ISN",
         15188
        ],
        [
         "TKI",
         2
        ]
       ],
       "datasetInfos": [],
       "dbfsResultPath": null,
       "isJsonSchema": true,
       "metadata": {},
       "overflow": false,
       "plotOptions": {
        "customPlotOptions": {},
        "displayType": "table",
        "pivotAggregation": null,
        "pivotColumns": null,
        "xColumns": null,
        "yColumns": null
       },
       "removedWidgets": [],
       "schema": [
        {
         "metadata": "{}",
         "name": "ORIGIN",
         "type": "\"string\""
        },
        {
         "metadata": "{}",
         "name": "count",
         "type": "\"long\""
        }
       ],
       "type": "table"
      }
     },
     "output_type": "display_data"
    }
   ],
   "source": [
    "# Count of flights from airports not found\n",
    "flights_from_bad_airports = df_airlines.filter(df_airlines[\"ORIGIN\"].isin(airports_not_found))\n",
    "print('Check counts of flights from airports not found')\n",
    "display(flights_from_bad_airports.groupby(\"ORIGIN\").count())\n"
   ]
  },
  {
   "cell_type": "code",
   "execution_count": 0,
   "metadata": {
    "application/vnd.databricks.v1+cell": {
     "cellMetadata": {},
     "inputWidgets": {},
     "nuid": "c2565abe-82de-4b86-9bd5-4dd8f5dc90af",
     "showTitle": false,
     "title": ""
    }
   },
   "outputs": [],
   "source": [
    "# Get the unique relevant station IDs from the final station table\n",
    "station_ids = {r[\"station_id\"] for r in stations_with_iata.select(col(\"station_id\")).distinct().collect()}\n"
   ]
  },
  {
   "cell_type": "code",
   "execution_count": 0,
   "metadata": {
    "application/vnd.databricks.v1+cell": {
     "cellMetadata": {},
     "inputWidgets": {},
     "nuid": "46aa4360-618c-4276-9760-a06f629d86b4",
     "showTitle": false,
     "title": ""
    }
   },
   "outputs": [],
   "source": [
    "# Load weather table\n",
    "df_weather = spark.read.parquet(\"dbfs:/mnt/mids-w261/datasets_final_project_2022/parquet_weather_data/*\")\n"
   ]
  },
  {
   "cell_type": "code",
   "execution_count": 0,
   "metadata": {
    "application/vnd.databricks.v1+cell": {
     "cellMetadata": {},
     "inputWidgets": {},
     "nuid": "306901f1-ef7c-4235-a900-a1b1e374d597",
     "showTitle": false,
     "title": ""
    }
   },
   "outputs": [
    {
     "output_type": "stream",
     "name": "stdout",
     "output_type": "stream",
     "text": [
      "Original weather count = 898983399\n"
     ]
    }
   ],
   "source": [
    "original_weather_count = df_weather.count()\n",
    "print(f\"Original weather count = {original_weather_count}\")\n"
   ]
  },
  {
   "cell_type": "code",
   "execution_count": 0,
   "metadata": {
    "application/vnd.databricks.v1+cell": {
     "cellMetadata": {},
     "inputWidgets": {},
     "nuid": "fbbb75c5-6c23-4616-a075-9c36e38246f4",
     "showTitle": false,
     "title": ""
    }
   },
   "outputs": [],
   "source": [
    "# Filter the weather table to only the relevant stations\n",
    "df_weather_filtered = df_weather.filter(df_weather.STATION.isin(station_ids))\n",
    "filtered_weather_count = df_weather_filtered.count()\n",
    "print(f\"Filtered weather count = {filtered_weather_count}\")\n",
    "print(f\"Weather data size reduced by {(1-(filtered_weather_count/original_weather_count))*100:.0f}%\")\n"
   ]
  },
  {
   "cell_type": "code",
   "execution_count": 0,
   "metadata": {
    "application/vnd.databricks.v1+cell": {
     "cellMetadata": {},
     "inputWidgets": {},
     "nuid": "49841487-9387-4dc7-84a5-ce145345289c",
     "showTitle": false,
     "title": ""
    }
   },
   "outputs": [],
   "source": [
    "# Round weather data to nearest hour to merge with flights, and then shift by 2 hours.\n",
    "# First shift by -1 minutes (so that rows exactly on the hour aren't shifted 3 hours),\n",
    "# then shift by 3 hours so that each row is at least 2 hours from its original timestamp.\n",
    "\n",
    "weather_original_columns = df_weather_filtered.columns\n",
    "\n",
    "# Shift by 2 hours\n",
    "df_weather_filtered = df_weather_filtered.withColumn(\n",
    "\"shifted_timestamp\", df_weather_filtered[\"DATE\"] + expr(\"INTERVAL -1 MINUTES\")\n",
    ")\n",
    "df_weather_filtered = df_weather_filtered.withColumn(\n",
    "\"shifted_timestamp\", df_weather_filtered[\"shifted_timestamp\"] + expr(\"INTERVAL 3 HOURS\")\n",
    ")\n",
    "\n",
    "# Truncate hour (i.e. set minutes and everything after to 0)\n",
    "df_weather_filtered = df_weather_filtered.withColumn(\n",
    "\"final_timestamp\", date_trunc(\"hour\", df_weather_filtered.shifted_timestamp)\n",
    ")\n",
    "\n",
    "# Rearrange columns\n",
    "df_weather_filtered = df_weather_filtered.select(\n",
    "weather_original_columns[:2] + [\"final_timestamp\"] + weather_original_columns[2:]\n",
    ")"
   ]
  },
  {
   "cell_type": "code",
   "execution_count": 0,
   "metadata": {
    "application/vnd.databricks.v1+cell": {
     "cellMetadata": {},
     "inputWidgets": {},
     "nuid": "72b817cf-e582-4168-ad5d-e120d379c81d",
     "showTitle": false,
     "title": ""
    }
   },
   "outputs": [],
   "source": [
    "# There will be lots of duplicates by station ID and final_timestamp. \n",
    "# Drop duplicates ordered by station ID and original datestamp, to keep\n",
    "# the observation closest to the final_timestamp.\n",
    "\n",
    "window = Window.partitionBy(\"STATION\", \"final_timestamp\").orderBy(\"DATE\", \"tiebreak\")\n",
    "df_weather_deduped = df_weather_filtered\\\n",
    ".withColumn(\"tiebreak\", monotonically_increasing_id())\\\n",
    ".withColumn(\"rank\", rank().over(window))\\\n",
    ".filter(col(\"rank\") == 1).drop(\"rank\", \"tiebreak\")\n",
    "\n",
    "print('Weather data after dropping duplicates')\n",
    "display(df_weather_deduped)"
   ]
  },
  {
   "cell_type": "code",
   "execution_count": 0,
   "metadata": {
    "application/vnd.databricks.v1+cell": {
     "cellMetadata": {},
     "inputWidgets": {},
     "nuid": "c1e059ea-49b4-4251-95c5-4323057bdc4e",
     "showTitle": false,
     "title": ""
    }
   },
   "outputs": [],
   "source": [
    "# Merge relevant weather data with station info\n",
    "\n",
    "weather_keep_columns = [\n",
    "\"STATION\", \"DATE\", \"final_timestamp\", \"LATITUDE\", \"LONGITUDE\", \"ELEVATION\", \"NAME\", \n",
    "\"HourlyWindDirection\", \"HourlyVisibility\", \"HourlyDryBulbTemperature\", \"HourlyDewPointTemperature\", \"HourlySeaLevelPressure\", \n",
    "]\n",
    "\n",
    "station_keep_cols = [\n",
    "\"station_id\", \"neighbor_state\", \"ICAO\", \"IATA\", \"Country\", \"Elevation\"\n",
    "]\n",
    "\n",
    "stations_with_iata.select(station_keep_cols).createOrReplaceTempView(\"stations\")\n",
    "df_weather_deduped.select(weather_keep_columns).createOrReplaceTempView(\"weather\")\n",
    "\n",
    "query_weather_stations = f\"\"\"\n",
    "SELECT * \n",
    "FROM \n",
    "(SELECT {', '.join(weather_keep_columns)} FROM weather) AS w\n",
    "LEFT JOIN \n",
    "(SELECT {', '.join(station_keep_cols)} FROM stations) AS s\n",
    "ON w.STATION = s.station_id\n",
    "\"\"\"\n",
    "\n",
    "joined_weather_stations = spark.sql(query_weather_stations)\n",
    "print('Joined weather and station data')\n",
    "display(joined_weather_stations) \n"
   ]
  },
  {
   "cell_type": "code",
   "execution_count": 0,
   "metadata": {
    "application/vnd.databricks.v1+cell": {
     "cellMetadata": {},
     "inputWidgets": {},
     "nuid": "ec27b0e2-ce61-47c9-8a77-71772958bece",
     "showTitle": false,
     "title": ""
    }
   },
   "outputs": [],
   "source": [
    "df_airlines = spark.read.parquet(\"dbfs:/mnt/mids-w261/datasets_final_project_2022/parquet_airlines_data/*\")\n"
   ]
  },
  {
   "cell_type": "code",
   "execution_count": 0,
   "metadata": {
    "application/vnd.databricks.v1+cell": {
     "cellMetadata": {},
     "inputWidgets": {},
     "nuid": "40fa10ca-3143-4a9a-8d0d-92d89cff85af",
     "showTitle": false,
     "title": ""
    }
   },
   "outputs": [],
   "source": [
    "# Drop irrelevant flight table columns\n",
    "\n",
    "flights_keep_columns = [\n",
    "'QUARTER', 'MONTH', 'DAY_OF_MONTH', 'DAY_OF_WEEK', 'FL_DATE',\n",
    "'OP_UNIQUE_CARRIER', 'OP_CARRIER_AIRLINE_ID', 'OP_CARRIER', 'TAIL_NUM', 'OP_CARRIER_FL_NUM',\n",
    "'ORIGIN_AIRPORT_ID', 'ORIGIN_AIRPORT_SEQ_ID', 'ORIGIN_CITY_MARKET_ID', 'ORIGIN', 'ORIGIN_CITY_NAME',\n",
    "'ORIGIN_STATE_ABR', 'ORIGIN_STATE_FIPS', 'ORIGIN_STATE_NM', 'ORIGIN_WAC', \n",
    "'DEST_AIRPORT_ID', 'DEST_AIRPORT_SEQ_ID', 'DEST_CITY_MARKET_ID', 'DEST', 'DEST_CITY_NAME', \n",
    "'DEST_STATE_ABR', 'DEST_STATE_FIPS', 'DEST_STATE_NM', 'DEST_WAC',\n",
    "'CRS_DEP_TIME', 'DEP_TIME', 'DEP_DELAY', 'DEP_DELAY_NEW', 'DEP_DEL15', 'DEP_DELAY_GROUP', 'DEP_TIME_BLK', \n",
    "'TAXI_OUT', 'WHEELS_OFF', 'WHEELS_ON', 'TAXI_IN', \n",
    "'CRS_ARR_TIME', 'ARR_TIME', 'ARR_DELAY', 'ARR_DELAY_NEW', 'ARR_DEL15', 'ARR_DELAY_GROUP', 'ARR_TIME_BLK',\n",
    "'CANCELLED', 'CANCELLATION_CODE', 'DIVERTED', 'CRS_ELAPSED_TIME', 'ACTUAL_ELAPSED_TIME', 'AIR_TIME', \n",
    "'FLIGHTS', 'DISTANCE', 'DISTANCE_GROUP', \n",
    "'CARRIER_DELAY', 'WEATHER_DELAY', 'NAS_DELAY', 'SECURITY_DELAY', 'LATE_AIRCRAFT_DELAY'\n",
    "]\n",
    "\n",
    "flights = df_airlines.select(*flights_keep_columns) "
   ]
  },
  {
   "cell_type": "code",
   "execution_count": 0,
   "metadata": {
    "application/vnd.databricks.v1+cell": {
     "cellMetadata": {},
     "inputWidgets": {},
     "nuid": "d57fb4da-7caa-4977-8761-ddf71281a955",
     "showTitle": false,
     "title": ""
    }
   },
   "outputs": [],
   "source": [
    "# Additional clean up to drop flight records:\n",
    "\n",
    "# Assumption 1: Remove cancelled flights\n",
    "\"\"\"When DEP_DEL15.isNull(), these are cancelled flights. Our Phase I results indicated that flights are cancelled due to various reasons. We can safely take out cancelled flights (null value) from the delayed flights (\"DEP_DEL15\") since they are not relevant and minimal.\n",
    "\"\"\"\n",
    "flights = flights.where(col(\"CANCELLED\") != 1)\n"
   ]
  },
  {
   "cell_type": "code",
   "execution_count": 0,
   "metadata": {
    "application/vnd.databricks.v1+cell": {
     "cellMetadata": {},
     "inputWidgets": {},
     "nuid": "b36c883e-f52e-495e-a31f-740f3a982643",
     "showTitle": false,
     "title": ""
    }
   },
   "outputs": [],
   "source": [
    "# Assumption 2: Remove diverted flights\n",
    "\"\"\"A flight diversion is when an aircraft is unable to arrive at its final destination. Such as Aircraft emergency; Passenger emergency; Mechanical failure; and Poor weather conditions. We decided to remove this since it's not relevant to our analysis.\"\"\"\n",
    "flights = flights.where(col(\"DIVERTED\") != 1)\n"
   ]
  },
  {
   "cell_type": "code",
   "execution_count": 0,
   "metadata": {
    "application/vnd.databricks.v1+cell": {
     "cellMetadata": {},
     "inputWidgets": {},
     "nuid": "50605377-c621-4080-a8cf-0aadf60870e6",
     "showTitle": false,
     "title": ""
    }
   },
   "outputs": [],
   "source": [
    "# Drop any duplicate rows in full dataset:\n",
    "flights = flights.dropDuplicates()"
   ]
  },
  {
   "cell_type": "code",
   "execution_count": 0,
   "metadata": {
    "application/vnd.databricks.v1+cell": {
     "cellMetadata": {},
     "inputWidgets": {},
     "nuid": "9b30c89d-060c-4432-9dbd-67852fa60d45",
     "showTitle": false,
     "title": ""
    }
   },
   "outputs": [],
   "source": [
    "# There are an additional rows where for some reason the departure delay columns are null.\n",
    "# On inspection, in all these rows the scheduled CRS_DEP_TIME is equal to the DEP_TIME, meaning the delay is 0 minutes.\n",
    "# So we fill these columns with 0\n",
    "flights = flights.fillna(value=0, subset=[\"DEP_DELAY\", \"DEP_DELAY_NEW\", \"DEP_DEL15\", \"DEP_DELAY_GROUP\"])\n"
   ]
  },
  {
   "cell_type": "code",
   "execution_count": 0,
   "metadata": {
    "application/vnd.databricks.v1+cell": {
     "cellMetadata": {},
     "inputWidgets": {},
     "nuid": "2b237f0d-b101-4fce-963f-4a39829aac35",
     "showTitle": false,
     "title": ""
    }
   },
   "outputs": [],
   "source": [
    "# Convert flight Departure Times to UTC and round to nearest hour:\n",
    "\n",
    "# Convert departure time integers to zero-padded strings, e.g. 607 -> 0000607:\n",
    "# Modification: Use scheduled departure time instead\n",
    "flights = flights.withColumn(\"PADDED_DEP_TIME\", format_string(\"0000%d\", \"CRS_DEP_TIME\"))\n",
    "# Shorten the strings to the final 4 chars, e.g. 0000607 -> 0607:\n",
    "flights = flights.withColumn(\"FORMATTED_DEP_TIME\", substring(\"PADDED_DEP_TIME\", -4,4))\n",
    "# Concatenate string columns for departure date and time:\n",
    "flights = flights.withColumn(\"DEPT_DT_STR\", concat_ws(\" \", flights.FL_DATE, flights.FORMATTED_DEP_TIME))\n",
    "# Convert string datetime to timestamp:\n",
    "flights = flights.withColumn(\"DEPT_DT\", to_timestamp(flights.DEPT_DT_STR, \"yyyy-MM-dd HHmm\"))\n",
    "\n",
    "# Remove minutes and round datetimes *down* to nearest hour. It is necessary to round\n",
    "# down so that we don't join with weather data from less than 2 hours before:\n",
    "# flights = flights.withColumn(\"DEPT_UTC_HOUR\", date_trunc(\"HOUR\", flights.DEPT_UTC))"
   ]
  },
  {
   "cell_type": "code",
   "execution_count": 0,
   "metadata": {
    "application/vnd.databricks.v1+cell": {
     "cellMetadata": {},
     "inputWidgets": {},
     "nuid": "29bbf6e9-168e-423d-9491-81701691ea09",
     "showTitle": false,
     "title": ""
    }
   },
   "outputs": [],
   "source": [
    "# Calculate arrival time in UTC using departure time and elapsed time:\n",
    "# Modification: Use scheduled elapsed time\n",
    "flights = flights.withColumn(\"ARR_UTC\", col(\"DEPT_DT\") + (col(\"CRS_ELAPSED_TIME\") * expr(\"Interval 1 Minutes\")))  \n"
   ]
  },
  {
   "cell_type": "code",
   "execution_count": 0,
   "metadata": {
    "application/vnd.databricks.v1+cell": {
     "cellMetadata": {},
     "inputWidgets": {},
     "nuid": "edd75fd7-1ea6-4e55-812c-c417fb7ba351",
     "showTitle": false,
     "title": ""
    }
   },
   "outputs": [
    {
     "output_type": "stream",
     "name": "stdout",
     "output_type": "stream",
     "text": [
      "Final dataset has 2,530,970,592,598 rows (-2,530,929,136,001 dropped from original flights dataset)\n"
     ]
    }
   ],
   "source": [
    "# Join flights and weather data on airport IATA\n",
    "\n",
    "flights.createOrReplaceTempView(\"flights\")\n",
    "joined_weather_stations.createOrReplaceTempView(\"joined_weather_stations\")\n",
    "\n",
    "\n",
    "final_df = spark.sql('''\n",
    "  select *\n",
    "  from flights as f\n",
    "  inner join joined_weather_stations as w on f.ORIGIN = w.IATA\n",
    "  ''')\n",
    "\n",
    "final_n = final_df.count()\n",
    "flights_n = flights.count()\n",
    "print(f\"Final dataset has {final_n:,} rows ({final_n-flights_n:,} dropped from original flights dataset)\")\n",
    "\n"
   ]
  },
  {
   "cell_type": "code",
   "execution_count": 0,
   "metadata": {
    "application/vnd.databricks.v1+cell": {
     "cellMetadata": {},
     "inputWidgets": {},
     "nuid": "978dbfdc-da07-43ad-825b-673f1c12f480",
     "showTitle": false,
     "title": ""
    }
   },
   "outputs": [],
   "source": [
    "# Save final dataset to blob storage\n",
    "final_df.write.mode(\"overwrite\").parquet(f\"{team_blob_url}/team3-4_combined_dataset\")"
   ]
  }
 ],
 "metadata": {
  "application/vnd.databricks.v1+notebook": {
   "dashboards": [],
   "language": "python",
   "notebookMetadata": {
    "pythonIndentUnit": 4
   },
   "notebookName": "(Clone) Joined Dataset",
   "widgets": {}
  }
 },
 "nbformat": 4,
 "nbformat_minor": 0
}
